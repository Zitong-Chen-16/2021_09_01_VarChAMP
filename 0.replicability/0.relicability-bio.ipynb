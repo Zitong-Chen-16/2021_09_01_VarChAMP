{
 "cells": [
  {
   "attachments": {},
   "cell_type": "markdown",
   "id": "f772b1a2",
   "metadata": {},
   "source": [
    "##### Yu Han May, 2023\n",
    "This script is evolved from 0.replicability to answer: 2.can you retrieve mutant for the same wild type from the wild type itself. Specifically, protein channel features are seperated from non-protein features. Plot is generated to compare mAP score to CC score. "
   ]
  },
  {
   "cell_type": "code",
   "execution_count": 1,
   "id": "d999b87e",
   "metadata": {},
   "outputs": [],
   "source": [
    "import pandas as pd\n",
    "import numpy as np\n",
    "from copairs.map import aggregate\n",
    "from copairs.map import run_pipeline\n",
    "import seaborn as sns\n",
    "import matplotlib.pyplot as plt\n"
   ]
  },
  {
   "cell_type": "code",
   "execution_count": 2,
   "id": "2d10829b",
   "metadata": {},
   "outputs": [
    {
     "data": {
      "text/html": [
       "<div>\n",
       "<style scoped>\n",
       "    .dataframe tbody tr th:only-of-type {\n",
       "        vertical-align: middle;\n",
       "    }\n",
       "\n",
       "    .dataframe tbody tr th {\n",
       "        vertical-align: top;\n",
       "    }\n",
       "\n",
       "    .dataframe thead th {\n",
       "        text-align: right;\n",
       "    }\n",
       "</style>\n",
       "<table border=\"1\" class=\"dataframe\">\n",
       "  <thead>\n",
       "    <tr style=\"text-align: right;\">\n",
       "      <th></th>\n",
       "      <th>Metadata_Well</th>\n",
       "      <th>384_ID</th>\n",
       "      <th>entryID</th>\n",
       "      <th>Symbol</th>\n",
       "      <th>entry_plate.x</th>\n",
       "      <th>entry_well.x</th>\n",
       "      <th>entry_numb</th>\n",
       "      <th>dest_plate_96</th>\n",
       "      <th>dest_well_96</th>\n",
       "      <th>dest_numb_96</th>\n",
       "      <th>...</th>\n",
       "      <th>r384</th>\n",
       "      <th>c384</th>\n",
       "      <th>Metadata_Plate</th>\n",
       "      <th>batch</th>\n",
       "      <th>control</th>\n",
       "      <th>Gene</th>\n",
       "      <th>MT</th>\n",
       "      <th>Variant</th>\n",
       "      <th>Metadata_Sample_Unique</th>\n",
       "      <th>Metadata_batch_Plate</th>\n",
       "    </tr>\n",
       "  </thead>\n",
       "  <tbody>\n",
       "    <tr>\n",
       "      <th>0</th>\n",
       "      <td>A01</td>\n",
       "      <td>1_1</td>\n",
       "      <td>DisWTGDEh03_F06</td>\n",
       "      <td>ACSF3</td>\n",
       "      <td>DisWTGDEh03</td>\n",
       "      <td>F06</td>\n",
       "      <td>46.0</td>\n",
       "      <td>FVrry_P01_Q01</td>\n",
       "      <td>A01</td>\n",
       "      <td>1.0</td>\n",
       "      <td>...</td>\n",
       "      <td>1.0</td>\n",
       "      <td>1.0</td>\n",
       "      <td>2022_10_11_PPL9_P1</td>\n",
       "      <td>2023_02_23_Batch_3</td>\n",
       "      <td>False</td>\n",
       "      <td>ACSF3</td>\n",
       "      <td>NaN</td>\n",
       "      <td>ACSF3</td>\n",
       "      <td>ACSF3</td>\n",
       "      <td>2023_02_23_Batch_3-2022_10_11_PPL9_P1</td>\n",
       "    </tr>\n",
       "    <tr>\n",
       "      <th>1</th>\n",
       "      <td>C01</td>\n",
       "      <td>3_1</td>\n",
       "      <td>VUSmut_GDEh03_A02</td>\n",
       "      <td>ACSF3</td>\n",
       "      <td>VUSmut_GDEh03</td>\n",
       "      <td>A02</td>\n",
       "      <td>9.0</td>\n",
       "      <td>FVrry_P01_Q01</td>\n",
       "      <td>B01</td>\n",
       "      <td>2.0</td>\n",
       "      <td>...</td>\n",
       "      <td>3.0</td>\n",
       "      <td>1.0</td>\n",
       "      <td>2022_10_11_PPL9_P1</td>\n",
       "      <td>2023_02_23_Batch_3</td>\n",
       "      <td>False</td>\n",
       "      <td>ACSF3</td>\n",
       "      <td>Ala197Thr</td>\n",
       "      <td>ACSF3 Ala197Thr</td>\n",
       "      <td>ACSF3 Ala197Thr</td>\n",
       "      <td>2023_02_23_Batch_3-2022_10_11_PPL9_P1</td>\n",
       "    </tr>\n",
       "  </tbody>\n",
       "</table>\n",
       "<p>2 rows × 32 columns</p>\n",
       "</div>"
      ],
      "text/plain": [
       "  Metadata_Well 384_ID            entryID Symbol  entry_plate.x entry_well.x   \n",
       "0           A01    1_1    DisWTGDEh03_F06  ACSF3    DisWTGDEh03          F06  \\\n",
       "1           C01    3_1  VUSmut_GDEh03_A02  ACSF3  VUSmut_GDEh03          A02   \n",
       "\n",
       "   entry_numb  dest_plate_96 dest_well_96  dest_numb_96  ...  r384 c384   \n",
       "0        46.0  FVrry_P01_Q01          A01           1.0  ...   1.0  1.0  \\\n",
       "1         9.0  FVrry_P01_Q01          B01           2.0  ...   3.0  1.0   \n",
       "\n",
       "       Metadata_Plate               batch control   Gene         MT   \n",
       "0  2022_10_11_PPL9_P1  2023_02_23_Batch_3   False  ACSF3        NaN  \\\n",
       "1  2022_10_11_PPL9_P1  2023_02_23_Batch_3   False  ACSF3  Ala197Thr   \n",
       "\n",
       "           Variant  Metadata_Sample_Unique   \n",
       "0            ACSF3                   ACSF3  \\\n",
       "1  ACSF3 Ala197Thr         ACSF3 Ala197Thr   \n",
       "\n",
       "                    Metadata_batch_Plate  \n",
       "0  2023_02_23_Batch_3-2022_10_11_PPL9_P1  \n",
       "1  2023_02_23_Batch_3-2022_10_11_PPL9_P1  \n",
       "\n",
       "[2 rows x 32 columns]"
      ]
     },
     "execution_count": 2,
     "metadata": {},
     "output_type": "execute_result"
    }
   ],
   "source": [
    "#read profile\n",
    "df_p1=pd.read_csv('../../varchamp_profiles/2023_02_23_Batch_3/2022_10_11_PPL9_P1/2022_10_11_PPL9_P1_normalized_feature_select_batch.csv.gz')\n",
    "df_p2=pd.read_csv('../../varchamp_profiles/2023_02_23_Batch_3/2022_09_29_PPL9_P2/2022_09_29_PPL9_P2_normalized_feature_select_batch.csv.gz')\n",
    "df_p3=pd.read_csv('../../varchamp_profiles/2023_02_23_Batch_3/2022_09_29_PPL9_P3/2022_09_29_PPL9_P3_normalized_feature_select_batch.csv.gz')\n",
    "#read metadata\n",
    "df_metadata=pd.read_csv('../../varchamp_profiles/2023_02_23_Batch_3.csv')\n",
    "df_metadata.head(2)"
   ]
  },
  {
   "cell_type": "code",
   "execution_count": 3,
   "id": "f9136c96",
   "metadata": {},
   "outputs": [
    {
     "data": {
      "text/html": [
       "<div>\n",
       "<style scoped>\n",
       "    .dataframe tbody tr th:only-of-type {\n",
       "        vertical-align: middle;\n",
       "    }\n",
       "\n",
       "    .dataframe tbody tr th {\n",
       "        vertical-align: top;\n",
       "    }\n",
       "\n",
       "    .dataframe thead th {\n",
       "        text-align: right;\n",
       "    }\n",
       "</style>\n",
       "<table border=\"1\" class=\"dataframe\">\n",
       "  <thead>\n",
       "    <tr style=\"text-align: right;\">\n",
       "      <th></th>\n",
       "      <th>Metadata_Sample_Unique</th>\n",
       "      <th>cc_p</th>\n",
       "      <th>cc_np</th>\n",
       "    </tr>\n",
       "  </thead>\n",
       "  <tbody>\n",
       "    <tr>\n",
       "      <th>0</th>\n",
       "      <td>ACSF3 Ala197Thr</td>\n",
       "      <td>-0.220456</td>\n",
       "      <td>0.460932</td>\n",
       "    </tr>\n",
       "    <tr>\n",
       "      <th>1</th>\n",
       "      <td>ACSF3 Arg10Trp</td>\n",
       "      <td>0.176881</td>\n",
       "      <td>0.448367</td>\n",
       "    </tr>\n",
       "  </tbody>\n",
       "</table>\n",
       "</div>"
      ],
      "text/plain": [
       "  Metadata_Sample_Unique      cc_p     cc_np\n",
       "0        ACSF3 Ala197Thr -0.220456  0.460932\n",
       "1         ACSF3 Arg10Trp  0.176881  0.448367"
      ]
     },
     "execution_count": 3,
     "metadata": {},
     "output_type": "execute_result"
    }
   ],
   "source": [
    "#read CC score into dataframe\n",
    "df_cc=pd.read_csv('../../varchamp_profiles/impact_scores_perplate_20230410.csv')\n",
    "#extract cc_p and cc_np columns\n",
    "df_cc=df_cc[['Metadata_Sample_Unique','cc_p','cc_np']]\n",
    "#get the mean score for cc_p and cc_np columns based on Metadata_Sample_Unique\n",
    "df_cc_mean=df_cc.groupby('Metadata_Sample_Unique').mean()\n",
    "#make Metadata_Sample_Unique as a column\n",
    "df_cc_mean.reset_index(inplace=True)\n",
    "df_cc_mean.head(2)"
   ]
  },
  {
   "cell_type": "code",
   "execution_count": 4,
   "id": "497e3194",
   "metadata": {},
   "outputs": [
    {
     "data": {
      "text/html": [
       "<div>\n",
       "<style scoped>\n",
       "    .dataframe tbody tr th:only-of-type {\n",
       "        vertical-align: middle;\n",
       "    }\n",
       "\n",
       "    .dataframe tbody tr th {\n",
       "        vertical-align: top;\n",
       "    }\n",
       "\n",
       "    .dataframe thead th {\n",
       "        text-align: right;\n",
       "    }\n",
       "</style>\n",
       "<table border=\"1\" class=\"dataframe\">\n",
       "  <thead>\n",
       "    <tr style=\"text-align: right;\">\n",
       "      <th></th>\n",
       "      <th>Metadata_384_ID</th>\n",
       "      <th>Metadata_entryID</th>\n",
       "      <th>Metadata_Symbol</th>\n",
       "      <th>Metadata_entry_plate.x</th>\n",
       "      <th>Metadata_entry_well.x</th>\n",
       "      <th>Metadata_entry_numb</th>\n",
       "      <th>Metadata_dest_plate_96</th>\n",
       "      <th>Metadata_dest_well_96</th>\n",
       "      <th>Metadata_dest_numb_96</th>\n",
       "      <th>Metadata_orf_id</th>\n",
       "      <th>...</th>\n",
       "      <th>Nuclei_Texture_SumEntropy_DNA_20_01_256</th>\n",
       "      <th>Nuclei_Texture_SumEntropy_DNA_20_02_256</th>\n",
       "      <th>Nuclei_Texture_SumEntropy_DNA_20_03_256</th>\n",
       "      <th>Nuclei_Texture_SumVariance_AGP_20_02_256</th>\n",
       "      <th>Nuclei_Texture_SumVariance_DNA_20_01_256</th>\n",
       "      <th>Nuclei_Texture_SumVariance_DNA_20_02_256</th>\n",
       "      <th>Nuclei_Texture_SumVariance_DNA_20_03_256</th>\n",
       "      <th>Nuclei_Texture_SumVariance_GFP_5_01_256</th>\n",
       "      <th>Nuclei_Texture_SumVariance_Mito_20_03_256</th>\n",
       "      <th>Nuclei_Texture_Variance_AGP_10_00_256</th>\n",
       "    </tr>\n",
       "  </thead>\n",
       "  <tbody>\n",
       "    <tr>\n",
       "      <th>0</th>\n",
       "      <td>1_1</td>\n",
       "      <td>DisWTGDEh03_F06</td>\n",
       "      <td>ACSF3</td>\n",
       "      <td>DisWTGDEh03</td>\n",
       "      <td>F06</td>\n",
       "      <td>46.0</td>\n",
       "      <td>FVrry_P01_Q01</td>\n",
       "      <td>A01</td>\n",
       "      <td>1.0</td>\n",
       "      <td>71337.0</td>\n",
       "      <td>...</td>\n",
       "      <td>-1.6834</td>\n",
       "      <td>-1.84680</td>\n",
       "      <td>-1.56960</td>\n",
       "      <td>-0.43763</td>\n",
       "      <td>-1.05170</td>\n",
       "      <td>-1.06410</td>\n",
       "      <td>-0.99208</td>\n",
       "      <td>-0.59723</td>\n",
       "      <td>0.94397</td>\n",
       "      <td>-0.54754</td>\n",
       "    </tr>\n",
       "    <tr>\n",
       "      <th>1</th>\n",
       "      <td>3_1</td>\n",
       "      <td>VUSmut_GDEh03_A02</td>\n",
       "      <td>ACSF3</td>\n",
       "      <td>VUSmut_GDEh03</td>\n",
       "      <td>A02</td>\n",
       "      <td>9.0</td>\n",
       "      <td>FVrry_P01_Q01</td>\n",
       "      <td>B01</td>\n",
       "      <td>2.0</td>\n",
       "      <td>71337.0</td>\n",
       "      <td>...</td>\n",
       "      <td>0.1716</td>\n",
       "      <td>0.42315</td>\n",
       "      <td>0.38591</td>\n",
       "      <td>-0.64088</td>\n",
       "      <td>0.37808</td>\n",
       "      <td>0.38868</td>\n",
       "      <td>1.27990</td>\n",
       "      <td>-0.65973</td>\n",
       "      <td>4.86160</td>\n",
       "      <td>-0.73677</td>\n",
       "    </tr>\n",
       "  </tbody>\n",
       "</table>\n",
       "<p>2 rows × 716 columns</p>\n",
       "</div>"
      ],
      "text/plain": [
       "  Metadata_384_ID   Metadata_entryID Metadata_Symbol Metadata_entry_plate.x   \n",
       "0             1_1    DisWTGDEh03_F06           ACSF3            DisWTGDEh03  \\\n",
       "1             3_1  VUSmut_GDEh03_A02           ACSF3          VUSmut_GDEh03   \n",
       "\n",
       "  Metadata_entry_well.x  Metadata_entry_numb Metadata_dest_plate_96   \n",
       "0                   F06                 46.0          FVrry_P01_Q01  \\\n",
       "1                   A02                  9.0          FVrry_P01_Q01   \n",
       "\n",
       "  Metadata_dest_well_96  Metadata_dest_numb_96  Metadata_orf_id  ...   \n",
       "0                   A01                    1.0          71337.0  ...  \\\n",
       "1                   B01                    2.0          71337.0  ...   \n",
       "\n",
       "  Nuclei_Texture_SumEntropy_DNA_20_01_256   \n",
       "0                                 -1.6834  \\\n",
       "1                                  0.1716   \n",
       "\n",
       "   Nuclei_Texture_SumEntropy_DNA_20_02_256   \n",
       "0                                 -1.84680  \\\n",
       "1                                  0.42315   \n",
       "\n",
       "  Nuclei_Texture_SumEntropy_DNA_20_03_256   \n",
       "0                                -1.56960  \\\n",
       "1                                 0.38591   \n",
       "\n",
       "  Nuclei_Texture_SumVariance_AGP_20_02_256   \n",
       "0                                 -0.43763  \\\n",
       "1                                 -0.64088   \n",
       "\n",
       "  Nuclei_Texture_SumVariance_DNA_20_01_256   \n",
       "0                                 -1.05170  \\\n",
       "1                                  0.37808   \n",
       "\n",
       "  Nuclei_Texture_SumVariance_DNA_20_02_256   \n",
       "0                                 -1.06410  \\\n",
       "1                                  0.38868   \n",
       "\n",
       "   Nuclei_Texture_SumVariance_DNA_20_03_256   \n",
       "0                                  -0.99208  \\\n",
       "1                                   1.27990   \n",
       "\n",
       "   Nuclei_Texture_SumVariance_GFP_5_01_256   \n",
       "0                                 -0.59723  \\\n",
       "1                                 -0.65973   \n",
       "\n",
       "  Nuclei_Texture_SumVariance_Mito_20_03_256   \n",
       "0                                   0.94397  \\\n",
       "1                                   4.86160   \n",
       "\n",
       "   Nuclei_Texture_Variance_AGP_10_00_256  \n",
       "0                               -0.54754  \n",
       "1                               -0.73677  \n",
       "\n",
       "[2 rows x 716 columns]"
      ]
     },
     "execution_count": 4,
     "metadata": {},
     "output_type": "execute_result"
    }
   ],
   "source": [
    "#concatenate df_p1, df_p2, df_p3\n",
    "df=pd.concat([df_p1,df_p2,df_p3],axis=0)\n",
    "#remove Metadata_Symbol=516-TC in df\n",
    "df_profile=df[df['Metadata_Symbol']!='516 - TC']\n",
    "df_profile.head(2)"
   ]
  },
  {
   "cell_type": "code",
   "execution_count": 5,
   "id": "b66bfb84",
   "metadata": {},
   "outputs": [
    {
     "data": {
      "text/html": [
       "<div>\n",
       "<style scoped>\n",
       "    .dataframe tbody tr th:only-of-type {\n",
       "        vertical-align: middle;\n",
       "    }\n",
       "\n",
       "    .dataframe tbody tr th {\n",
       "        vertical-align: top;\n",
       "    }\n",
       "\n",
       "    .dataframe thead th {\n",
       "        text-align: right;\n",
       "    }\n",
       "</style>\n",
       "<table border=\"1\" class=\"dataframe\">\n",
       "  <thead>\n",
       "    <tr style=\"text-align: right;\">\n",
       "      <th></th>\n",
       "      <th>Metadata_384_ID</th>\n",
       "      <th>Metadata_entryID</th>\n",
       "      <th>Metadata_Symbol</th>\n",
       "      <th>Metadata_entry_plate.x</th>\n",
       "      <th>Metadata_entry_well.x</th>\n",
       "      <th>Metadata_entry_numb</th>\n",
       "      <th>Metadata_dest_plate_96</th>\n",
       "      <th>Metadata_dest_well_96</th>\n",
       "      <th>Metadata_dest_numb_96</th>\n",
       "      <th>Metadata_orf_id</th>\n",
       "      <th>...</th>\n",
       "      <th>Nuclei_Texture_SumVariance_DNA_20_01_256</th>\n",
       "      <th>Nuclei_Texture_SumVariance_DNA_20_02_256</th>\n",
       "      <th>Nuclei_Texture_SumVariance_DNA_20_03_256</th>\n",
       "      <th>Nuclei_Texture_SumVariance_GFP_5_01_256</th>\n",
       "      <th>Nuclei_Texture_SumVariance_Mito_20_03_256</th>\n",
       "      <th>Nuclei_Texture_Variance_AGP_10_00_256</th>\n",
       "      <th>Metadata_Gene</th>\n",
       "      <th>Metadata_MT</th>\n",
       "      <th>Metadata_Sample_Unique</th>\n",
       "      <th>Metadata_type</th>\n",
       "    </tr>\n",
       "  </thead>\n",
       "  <tbody>\n",
       "    <tr>\n",
       "      <th>0</th>\n",
       "      <td>1_1</td>\n",
       "      <td>DisWTGDEh03_F06</td>\n",
       "      <td>ACSF3</td>\n",
       "      <td>DisWTGDEh03</td>\n",
       "      <td>F06</td>\n",
       "      <td>46.0</td>\n",
       "      <td>FVrry_P01_Q01</td>\n",
       "      <td>A01</td>\n",
       "      <td>1.0</td>\n",
       "      <td>71337.0</td>\n",
       "      <td>...</td>\n",
       "      <td>-1.05170</td>\n",
       "      <td>-1.06410</td>\n",
       "      <td>-0.99208</td>\n",
       "      <td>-0.59723</td>\n",
       "      <td>0.94397</td>\n",
       "      <td>-0.54754</td>\n",
       "      <td>ACSF3</td>\n",
       "      <td>NaN</td>\n",
       "      <td>ACSF3</td>\n",
       "      <td>WT</td>\n",
       "    </tr>\n",
       "    <tr>\n",
       "      <th>1</th>\n",
       "      <td>3_1</td>\n",
       "      <td>VUSmut_GDEh03_A02</td>\n",
       "      <td>ACSF3</td>\n",
       "      <td>VUSmut_GDEh03</td>\n",
       "      <td>A02</td>\n",
       "      <td>9.0</td>\n",
       "      <td>FVrry_P01_Q01</td>\n",
       "      <td>B01</td>\n",
       "      <td>2.0</td>\n",
       "      <td>71337.0</td>\n",
       "      <td>...</td>\n",
       "      <td>0.37808</td>\n",
       "      <td>0.38868</td>\n",
       "      <td>1.27990</td>\n",
       "      <td>-0.65973</td>\n",
       "      <td>4.86160</td>\n",
       "      <td>-0.73677</td>\n",
       "      <td>ACSF3</td>\n",
       "      <td>Ala197Thr</td>\n",
       "      <td>ACSF3 Ala197Thr</td>\n",
       "      <td>MT</td>\n",
       "    </tr>\n",
       "  </tbody>\n",
       "</table>\n",
       "<p>2 rows × 720 columns</p>\n",
       "</div>"
      ],
      "text/plain": [
       "  Metadata_384_ID   Metadata_entryID Metadata_Symbol Metadata_entry_plate.x   \n",
       "0             1_1    DisWTGDEh03_F06           ACSF3            DisWTGDEh03  \\\n",
       "1             3_1  VUSmut_GDEh03_A02           ACSF3          VUSmut_GDEh03   \n",
       "\n",
       "  Metadata_entry_well.x  Metadata_entry_numb Metadata_dest_plate_96   \n",
       "0                   F06                 46.0          FVrry_P01_Q01  \\\n",
       "1                   A02                  9.0          FVrry_P01_Q01   \n",
       "\n",
       "  Metadata_dest_well_96  Metadata_dest_numb_96  Metadata_orf_id  ...   \n",
       "0                   A01                    1.0          71337.0  ...  \\\n",
       "1                   B01                    2.0          71337.0  ...   \n",
       "\n",
       "  Nuclei_Texture_SumVariance_DNA_20_01_256   \n",
       "0                                 -1.05170  \\\n",
       "1                                  0.37808   \n",
       "\n",
       "   Nuclei_Texture_SumVariance_DNA_20_02_256   \n",
       "0                                  -1.06410  \\\n",
       "1                                   0.38868   \n",
       "\n",
       "  Nuclei_Texture_SumVariance_DNA_20_03_256   \n",
       "0                                 -0.99208  \\\n",
       "1                                  1.27990   \n",
       "\n",
       "  Nuclei_Texture_SumVariance_GFP_5_01_256   \n",
       "0                                -0.59723  \\\n",
       "1                                -0.65973   \n",
       "\n",
       "  Nuclei_Texture_SumVariance_Mito_20_03_256   \n",
       "0                                   0.94397  \\\n",
       "1                                   4.86160   \n",
       "\n",
       "  Nuclei_Texture_Variance_AGP_10_00_256  Metadata_Gene  Metadata_MT   \n",
       "0                              -0.54754          ACSF3          NaN  \\\n",
       "1                              -0.73677          ACSF3    Ala197Thr   \n",
       "\n",
       "  Metadata_Sample_Unique  Metadata_type  \n",
       "0                  ACSF3             WT  \n",
       "1        ACSF3 Ala197Thr             MT  \n",
       "\n",
       "[2 rows x 720 columns]"
      ]
     },
     "execution_count": 5,
     "metadata": {},
     "output_type": "execute_result"
    }
   ],
   "source": [
    "#merge Gene, MT, and Metadata_Sample_Unique from df_metadata to df_profile \n",
    "#based on columns of Metadata_Well and Metadata_Plate\n",
    "df_merge=df_profile.merge(df_metadata[['Metadata_Well','Metadata_Plate','Gene','MT','Metadata_Sample_Unique']],on=['Metadata_Well','Metadata_Plate'],how='left')\n",
    "#change Gene to Metadata_Gene and MT to Metadata_MT\n",
    "df_merge.rename(columns={'Gene':'Metadata_Gene','MT':'Metadata_MT'},inplace=True)\n",
    "#add a column of Metadata_type where if Metadata_MT is NaN, Metadata_type is 'WT', otherwise 'MT'\n",
    "df_merge['Metadata_type']=np.where(df_merge['Metadata_MT'].isnull(),'WT','MT')\n",
    "df_merge.head(2)"
   ]
  },
  {
   "cell_type": "code",
   "execution_count": 6,
   "id": "97d827e4",
   "metadata": {},
   "outputs": [],
   "source": [
    "#extract meta and feat columns\n",
    "meta_cols = [c for c in df_merge.columns if c.startswith('Meta')]\n",
    "feat_cols = [c for c in df_merge.columns if not c.startswith('Meta')]\n",
    "#select protein channel features, where GFP exists in feat_cols\n",
    "feat_cols_protein=[c for c in feat_cols if 'GFP' in c]\n",
    "#select non-protein channel features, where GFP does not exist in feat_cols\n",
    "feat_cols_non_protein=[c for c in feat_cols if 'GFP' not in c]"
   ]
  },
  {
   "cell_type": "code",
   "execution_count": 7,
   "id": "7b1cf02b",
   "metadata": {},
   "outputs": [],
   "source": [
    "meta = df_merge[meta_cols]\n",
    "feats_protein = df_merge[feat_cols_protein].values\n",
    "feats_non_protein = df_merge[feat_cols_non_protein].values"
   ]
  },
  {
   "attachments": {},
   "cell_type": "markdown",
   "id": "397e81e2",
   "metadata": {},
   "source": [
    "#### retrieve mutants from its WT, protein channel"
   ]
  },
  {
   "cell_type": "code",
   "execution_count": 8,
   "id": "6be505ee",
   "metadata": {},
   "outputs": [],
   "source": [
    "pos_sameby = ['Metadata_Gene']\n",
    "pos_diffby = ['Metadata_type']\n",
    "neg_sameby = []\n",
    "neg_diffby = ['Metadata_Gene']\n",
    "null_size = 10000"
   ]
  },
  {
   "cell_type": "code",
   "execution_count": 9,
   "id": "d42bcb47",
   "metadata": {},
   "outputs": [
    {
     "data": {
      "application/vnd.jupyter.widget-view+json": {
       "model_id": "5c4c866be26c48979433e76e97252e79",
       "version_major": 2,
       "version_minor": 0
      },
      "text/plain": [
       "  0%|          | 0/1 [00:00<?, ?it/s]"
      ]
     },
     "metadata": {},
     "output_type": "display_data"
    },
    {
     "data": {
      "application/vnd.jupyter.widget-view+json": {
       "model_id": "a4e055937e1548738bfd93c717a2a445",
       "version_major": 2,
       "version_minor": 0
      },
      "text/plain": [
       "  0%|          | 0/28 [00:00<?, ?it/s]"
      ]
     },
     "metadata": {},
     "output_type": "display_data"
    },
    {
     "data": {
      "text/plain": [
       "above_p_threshold  above_q_threshold\n",
       "False              False                131\n",
       "True               True                  90\n",
       "                   False                 33\n",
       "Name: count, dtype: int64"
      ]
     },
     "execution_count": 9,
     "metadata": {},
     "output_type": "execute_result"
    }
   ],
   "source": [
    "bio_result = run_pipeline(meta, feats_protein, pos_sameby, pos_diffby, neg_sameby, neg_diffby, null_size)\n",
    "#remove Metadata_type=WT\n",
    "bio_result=bio_result[bio_result['Metadata_type']!='WT']\n",
    "bio_result_agg=aggregate(bio_result, 'Metadata_Sample_Unique', threshold=0.05)\n",
    "bio_result_agg[['above_p_threshold', 'above_q_threshold']].value_counts()\n"
   ]
  },
  {
   "cell_type": "code",
   "execution_count": 10,
   "id": "5ea7d0d5",
   "metadata": {},
   "outputs": [
    {
     "data": {
      "text/plain": [
       "['CTH Gln240Glu',\n",
       " 'BLMH Ile443Val',\n",
       " 'AP2S1 Arg15Cys',\n",
       " 'CLDN19 Arg200Gln',\n",
       " 'CUL3 Lys459Arg',\n",
       " 'CTNNA3 Val94Asp',\n",
       " 'AP2S1 Arg15His',\n",
       " 'BLK Ala71Thr',\n",
       " 'CCBE1 Gly136Arg',\n",
       " 'CLDN19 Gln57Glu',\n",
       " 'CTH Thr67Ile',\n",
       " 'CTH Ser403Ile']"
      ]
     },
     "execution_count": 10,
     "metadata": {},
     "output_type": "execute_result"
    }
   ],
   "source": [
    "#missing Metadata_Sample_Unique in df_cc_mean comparing to bio_result_agg\n",
    "lista=list(bio_result_agg['Metadata_Sample_Unique'])\n",
    "listb=list(df_cc_mean['Metadata_Sample_Unique'])\n",
    "list_diff=list(set(lista).difference(set(listb)))\n",
    "list_diff\n"
   ]
  },
  {
   "cell_type": "code",
   "execution_count": 11,
   "id": "28c60478",
   "metadata": {},
   "outputs": [
    {
     "data": {
      "text/html": [
       "<div>\n",
       "<style scoped>\n",
       "    .dataframe tbody tr th:only-of-type {\n",
       "        vertical-align: middle;\n",
       "    }\n",
       "\n",
       "    .dataframe tbody tr th {\n",
       "        vertical-align: top;\n",
       "    }\n",
       "\n",
       "    .dataframe thead th {\n",
       "        text-align: right;\n",
       "    }\n",
       "</style>\n",
       "<table border=\"1\" class=\"dataframe\">\n",
       "  <thead>\n",
       "    <tr style=\"text-align: right;\">\n",
       "      <th></th>\n",
       "      <th>Metadata_Sample_Unique</th>\n",
       "      <th>cc_p</th>\n",
       "      <th>cc_np</th>\n",
       "      <th>average_precision</th>\n",
       "      <th>nlog10pvalue</th>\n",
       "      <th>q_value</th>\n",
       "      <th>nlog10qvalue</th>\n",
       "      <th>above_p_threshold</th>\n",
       "      <th>above_q_threshold</th>\n",
       "    </tr>\n",
       "  </thead>\n",
       "  <tbody>\n",
       "    <tr>\n",
       "      <th>0</th>\n",
       "      <td>ACSF3 Ala197Thr</td>\n",
       "      <td>-0.220456</td>\n",
       "      <td>0.460932</td>\n",
       "      <td>0.003251</td>\n",
       "      <td>0.131854</td>\n",
       "      <td>0.847669</td>\n",
       "      <td>0.071774</td>\n",
       "      <td>False</td>\n",
       "      <td>False</td>\n",
       "    </tr>\n",
       "    <tr>\n",
       "      <th>1</th>\n",
       "      <td>ACSF3 Arg10Trp</td>\n",
       "      <td>0.176881</td>\n",
       "      <td>0.448367</td>\n",
       "      <td>0.006241</td>\n",
       "      <td>0.446405</td>\n",
       "      <td>0.493868</td>\n",
       "      <td>0.306389</td>\n",
       "      <td>False</td>\n",
       "      <td>False</td>\n",
       "    </tr>\n",
       "  </tbody>\n",
       "</table>\n",
       "</div>"
      ],
      "text/plain": [
       "  Metadata_Sample_Unique      cc_p     cc_np  average_precision  nlog10pvalue   \n",
       "0        ACSF3 Ala197Thr -0.220456  0.460932           0.003251      0.131854  \\\n",
       "1         ACSF3 Arg10Trp  0.176881  0.448367           0.006241      0.446405   \n",
       "\n",
       "    q_value  nlog10qvalue  above_p_threshold  above_q_threshold  \n",
       "0  0.847669      0.071774              False              False  \n",
       "1  0.493868      0.306389              False              False  "
      ]
     },
     "execution_count": 11,
     "metadata": {},
     "output_type": "execute_result"
    }
   ],
   "source": [
    "#merge bio_result_agg with df_cc_mean based on Metadata_Sample_Unique\n",
    "df_merge_cc=df_cc_mean.merge(bio_result_agg,on='Metadata_Sample_Unique',how='left')\n",
    "df_merge_cc.head(2)"
   ]
  },
  {
   "cell_type": "code",
   "execution_count": 12,
   "id": "81f5b4c4",
   "metadata": {},
   "outputs": [
    {
     "data": {
      "image/png": "[encoded data removed]",
      "text/plain": [
       "<Figure size 640x480 with 1 Axes>"
      ]
     },
     "metadata": {},
     "output_type": "display_data"
    }
   ],
   "source": [
    "#plot mAP score vs cc_p scoren using sns\n",
    "sns.scatterplot(data=df_merge_cc, x=\"average_precision\", y=\"cc_p\")\n",
    "plt.show()"
   ]
  },
  {
   "attachments": {},
   "cell_type": "markdown",
   "id": "6f3b1ed7",
   "metadata": {},
   "source": [
    "#### retrieve mutants from its WT, non protein channel"
   ]
  },
  {
   "cell_type": "code",
   "execution_count": 13,
   "id": "2122abdc",
   "metadata": {},
   "outputs": [
    {
     "data": {
      "application/vnd.jupyter.widget-view+json": {
       "model_id": "daa6e1f44c2a43159053a3367851970d",
       "version_major": 2,
       "version_minor": 0
      },
      "text/plain": [
       "  0%|          | 0/1 [00:00<?, ?it/s]"
      ]
     },
     "metadata": {},
     "output_type": "display_data"
    },
    {
     "data": {
      "application/vnd.jupyter.widget-view+json": {
       "model_id": "9143ffc4a44342c68183eced9e818e1c",
       "version_major": 2,
       "version_minor": 0
      },
      "text/plain": [
       "  0%|          | 0/28 [00:00<?, ?it/s]"
      ]
     },
     "metadata": {},
     "output_type": "display_data"
    },
    {
     "data": {
      "text/plain": [
       "above_p_threshold  above_q_threshold\n",
       "False              False                187\n",
       "True               True                  34\n",
       "                   False                 33\n",
       "Name: count, dtype: int64"
      ]
     },
     "execution_count": 13,
     "metadata": {},
     "output_type": "execute_result"
    }
   ],
   "source": [
    "bio_result_non = run_pipeline(meta, feats_non_protein, pos_sameby, pos_diffby, neg_sameby, neg_diffby, null_size)\n",
    "#remove Metadata_type=WT\n",
    "bio_result_non=bio_result_non[bio_result_non['Metadata_type']!='WT']\n",
    "bio_result_agg_non=aggregate(bio_result_non, 'Metadata_Sample_Unique', threshold=0.05)\n",
    "bio_result_agg_non[['above_p_threshold', 'above_q_threshold']].value_counts()"
   ]
  },
  {
   "cell_type": "code",
   "execution_count": 14,
   "id": "bd7945f8",
   "metadata": {},
   "outputs": [
    {
     "data": {
      "text/html": [
       "<div>\n",
       "<style scoped>\n",
       "    .dataframe tbody tr th:only-of-type {\n",
       "        vertical-align: middle;\n",
       "    }\n",
       "\n",
       "    .dataframe tbody tr th {\n",
       "        vertical-align: top;\n",
       "    }\n",
       "\n",
       "    .dataframe thead th {\n",
       "        text-align: right;\n",
       "    }\n",
       "</style>\n",
       "<table border=\"1\" class=\"dataframe\">\n",
       "  <thead>\n",
       "    <tr style=\"text-align: right;\">\n",
       "      <th></th>\n",
       "      <th>Metadata_Sample_Unique</th>\n",
       "      <th>cc_p</th>\n",
       "      <th>cc_np</th>\n",
       "      <th>average_precision</th>\n",
       "      <th>nlog10pvalue</th>\n",
       "      <th>q_value</th>\n",
       "      <th>nlog10qvalue</th>\n",
       "      <th>above_p_threshold</th>\n",
       "      <th>above_q_threshold</th>\n",
       "    </tr>\n",
       "  </thead>\n",
       "  <tbody>\n",
       "    <tr>\n",
       "      <th>0</th>\n",
       "      <td>ACSF3 Ala197Thr</td>\n",
       "      <td>-0.220456</td>\n",
       "      <td>0.460932</td>\n",
       "      <td>0.018725</td>\n",
       "      <td>0.891301</td>\n",
       "      <td>0.299565</td>\n",
       "      <td>0.523509</td>\n",
       "      <td>False</td>\n",
       "      <td>False</td>\n",
       "    </tr>\n",
       "    <tr>\n",
       "      <th>1</th>\n",
       "      <td>ACSF3 Arg10Trp</td>\n",
       "      <td>0.176881</td>\n",
       "      <td>0.448367</td>\n",
       "      <td>0.020284</td>\n",
       "      <td>1.128245</td>\n",
       "      <td>0.236319</td>\n",
       "      <td>0.626501</td>\n",
       "      <td>False</td>\n",
       "      <td>False</td>\n",
       "    </tr>\n",
       "  </tbody>\n",
       "</table>\n",
       "</div>"
      ],
      "text/plain": [
       "  Metadata_Sample_Unique      cc_p     cc_np  average_precision  nlog10pvalue   \n",
       "0        ACSF3 Ala197Thr -0.220456  0.460932           0.018725      0.891301  \\\n",
       "1         ACSF3 Arg10Trp  0.176881  0.448367           0.020284      1.128245   \n",
       "\n",
       "    q_value  nlog10qvalue  above_p_threshold  above_q_threshold  \n",
       "0  0.299565      0.523509              False              False  \n",
       "1  0.236319      0.626501              False              False  "
      ]
     },
     "execution_count": 14,
     "metadata": {},
     "output_type": "execute_result"
    }
   ],
   "source": [
    "#merge bio_result_agg with df_cc_mean based on Metadata_Sample_Unique\n",
    "df_merge_cc_non=df_cc_mean.merge(bio_result_agg_non,on='Metadata_Sample_Unique',how='left')\n",
    "df_merge_cc_non.head(2)"
   ]
  },
  {
   "cell_type": "code",
   "execution_count": 15,
   "id": "c8e32db9",
   "metadata": {},
   "outputs": [
    {
     "data": {
      "image/png": "[encoded data removed]",
      "text/plain": [
       "<Figure size 640x480 with 1 Axes>"
      ]
     },
     "metadata": {},
     "output_type": "display_data"
    }
   ],
   "source": [
    "#plot mAP score vs cc_p scoren using sns\n",
    "sns.scatterplot(data=df_merge_cc_non, x=\"average_precision\", y=\"cc_np\")\n",
    "plt.show()"
   ]
  }
 ],
 "metadata": {
  "kernelspec": {
   "display_name": "Python 3",
   "language": "python",
   "name": "python3"
  },
  "language_info": {
   "codemirror_mode": {
    "name": "ipython",
    "version": 3
   },
   "file_extension": ".py",
   "mimetype": "text/x-python",
   "name": "python",
   "nbconvert_exporter": "python",
   "pygments_lexer": "ipython3",
   "version": "3.8.5"
  }
 },
 "nbformat": 4,
 "nbformat_minor": 5
}
