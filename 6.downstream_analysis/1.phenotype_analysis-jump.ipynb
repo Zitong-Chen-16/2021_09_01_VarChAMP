{
 "cells": [
  {
   "cell_type": "code",
   "execution_count": 154,
   "id": "791af53f",
   "metadata": {},
   "outputs": [],
   "source": [
    "import pandas as pd\n",
    "import numpy as np\n",
    "\n",
    "import black\n",
    "import jupyter_black\n",
    "\n",
    "jupyter_black.load(\n",
    "    lab=False,\n",
    "    line_length=79,\n",
    "    verbosity=\"DEBUG\",\n",
    "    target_version=black.TargetVersion.PY310,\n",
    ")\n",
    "\n",
    "from tqdm.auto import tqdm\n",
    "\n",
    "import warnings\n",
    "warnings.filterwarnings(\"ignore\")\n",
    "\n",
    "from sklearn.model_selection import cross_val_score, train_test_split\n",
    "from sklearn.metrics import f1_score, classification_report\n",
    "\n",
    "import xgboost as xgb\n",
    "import random\n",
    "\n",
    "import scipy"
   ]
  },
  {
   "cell_type": "code",
   "execution_count": 2,
   "id": "b8706c28",
   "metadata": {},
   "outputs": [],
   "source": [
    "# data_dir = \"../../2021_09_01_VarChAMP_local/6.downstream_analysis/results/\"\n",
    "# feature_type = \"_normalized_feature_selected\""
   ]
  },
  {
   "cell_type": "code",
   "execution_count": 31,
   "id": "6302054d",
   "metadata": {},
   "outputs": [],
   "source": [
    "data_dir = \"../../raw_images/cpjump/results\"\n",
    "feature_type = \"_annotated_normalized_feature_selected\"\n",
    "plate = \"BR00121425_single_cell_profile\""
   ]
  },
  {
   "cell_type": "code",
   "execution_count": 32,
   "id": "c4e86ae6",
   "metadata": {},
   "outputs": [],
   "source": [
    "sc_profiles_path = f\"{data_dir}/{plate}{feature_type}.csv.gz\"\n",
    "\n",
    "sc_profiles = pd.read_csv(sc_profiles_path)"
   ]
  },
  {
   "cell_type": "code",
   "execution_count": 5,
   "id": "17131f31",
   "metadata": {},
   "outputs": [],
   "source": [
    "# sc_profiles_path = (\n",
    "#     f\"{data_dir}B1A1R1_P1T1_single_cell_profile{feature_type}.csv.gz\"\n",
    "# )\n",
    "\n",
    "# sc_profiles = pd.read_csv(sc_profiles_path)"
   ]
  },
  {
   "cell_type": "code",
   "execution_count": 36,
   "id": "decb742b",
   "metadata": {},
   "outputs": [],
   "source": [
    "# sc_profiles.drop([\"ObjectNumber\", \"ObjectNumber_Cells\"], axis=1, inplace=True)\n",
    "meta_col = [i for i in sc_profiles.columns if \"Metadata_\" in i]\n",
    "feat_col = [i for i in sc_profiles.columns if \"Metadata_\" not in i]"
   ]
  },
  {
   "cell_type": "markdown",
   "id": "3ca5a881",
   "metadata": {},
   "source": [
    "### Variant against Reference Classification"
   ]
  },
  {
   "cell_type": "code",
   "execution_count": null,
   "id": "e99408c8",
   "metadata": {},
   "outputs": [],
   "source": [
    "treatment_profiles = sc_profiles[\n",
    "    ~sc_profiles[\"Metadata_broad_sample\"].isna().reset_index(drop=True)\n",
    "].reset_index(drop=True)"
   ]
  },
  {
   "cell_type": "code",
   "execution_count": 159,
   "id": "a2afcc39",
   "metadata": {},
   "outputs": [],
   "source": [
    "cpd_lst = list(treatment_profiles[\"Metadata_broad_sample\"].unique())\n",
    "well_count = {cpd: treatment_profiles[treatment_profiles[\"Metadata_broad_sample\"]==cpd]\n",
    "              ['Metadata_Well'].unique().size for cpd in cpd_lst}\n",
    "cpd_keep = [i for i in cpd_lst if well_count[i]==1]\n",
    "cpd_keep = random.sample(cpd_keep, 64)"
   ]
  },
  {
   "cell_type": "code",
   "execution_count": 160,
   "id": "b5eb606a",
   "metadata": {},
   "outputs": [],
   "source": [
    "treatment_profiles = treatment_profiles[treatment_profiles['Metadata_broad_sample'].isin(cpd_keep)]"
   ]
  },
  {
   "cell_type": "code",
   "execution_count": 106,
   "id": "5aace8b4",
   "metadata": {},
   "outputs": [],
   "source": [
    "# treatment_profiles = sc_profiles[\n",
    "#     ~sc_profiles[\"Metadata_broad_sample\"].isna().reset_index(drop=True)\n",
    "# ].reset_index(drop=True)\n",
    "# cpd_lst = list(treatment_profiles[\"Metadata_broad_sample\"].unique())\n",
    "# group1 = random.sample(cpd_lst, len(cpd_lst)//2)\n",
    "# group2 = [i for i in cpd_lst if i not in group1]\n",
    "# group_dict = dict(zip(group1, group2))"
   ]
  },
  {
   "cell_type": "code",
   "execution_count": 161,
   "id": "8eddc32f",
   "metadata": {},
   "outputs": [],
   "source": [
    "treatment_group = treatment_profiles.groupby('Metadata_broad_sample').groups"
   ]
  },
  {
   "cell_type": "code",
   "execution_count": 164,
   "id": "6bb462b3",
   "metadata": {},
   "outputs": [
    {
     "data": {
      "application/vnd.jupyter.widget-view+json": {
       "model_id": "3757a1be09ec4ef09538854079ed6807",
       "version_major": 2,
       "version_minor": 0
      },
      "text/plain": [
       "  0%|          | 0/63 [00:00<?, ?it/s]"
      ]
     },
     "metadata": {},
     "output_type": "display_data"
    }
   ],
   "source": [
    "f1score_macro_list = []\n",
    "f1score_macro_shuff_list = []\n",
    "gene_list = []\n",
    "pair_list = []\n",
    "feat_list = []\n",
    "\n",
    "for i in tqdm(range(len(cpd_keep) - 1)):\n",
    "    cpd_one = cpd_keep[i]\n",
    "    for j in range(i + 1, len(cpd_keep)):\n",
    "        cpd_two = cpd_keep[j]\n",
    "\n",
    "        gene_profiles = treatment_profiles.loc[treatment_group[cpd_one]]\n",
    "        comp_profiles = treatment_profiles.loc[treatment_group[cpd_two]]\n",
    "\n",
    "\n",
    "        gene_profiles[\"Label\"] = 1\n",
    "        comp_profiles[\"Label\"] = 0\n",
    "        all_profiles = pd.concat(\n",
    "                [gene_profiles, comp_profiles], ignore_index=True\n",
    "            )\n",
    "        X, y = all_profiles[feat_col], all_profiles[[\"Label\"]]\n",
    "\n",
    "        # Split the data\n",
    "        X_train, X_test, y_train, y_test = train_test_split(\n",
    "            X, y, test_size=0.3, random_state=1\n",
    "        )\n",
    "\n",
    "        # Create shuffled train labels\n",
    "    #     y_train_shuff = y_train.copy()\n",
    "    #     y_train_shuff[\"Label\"] = np.random.permutation(y_train.values)\n",
    "\n",
    "        # Model train and predict\n",
    "        model = xgb.XGBClassifier().fit(X_train, y_train)\n",
    "        preds = model.predict(X_test)\n",
    "\n",
    "        # Store feature importance\n",
    "        feat_importances = pd.Series(\n",
    "            model.feature_importances_, index=X_train.columns\n",
    "        )\n",
    "        feat_list.append(feat_importances)\n",
    "\n",
    "        #         # Model trained with shuffled label data (null)\n",
    "        #         model_shuff = xgb.XGBClassifier().fit(X_train, y_train_shuff)\n",
    "        #         preds_shuff = model_shuff.predict(X_test)\n",
    "\n",
    "        # Evaluate with metrics\n",
    "        f1score_macro = f1_score(y_test, preds, average=\"macro\")\n",
    "        #         f1score_macro_shuff = f1_score(y_test, preds_shuff, average=\"macro\")\n",
    "\n",
    "        f1score_macro_list.append(f1score_macro)\n",
    "        #         f1score_macro_shuff_list.append(f1score_macro_shuff)\n",
    "        gene_list.append(cpd_one)\n",
    "        pair_list.append(cpd_two)"
   ]
  },
  {
   "cell_type": "code",
   "execution_count": 109,
   "id": "017eda24",
   "metadata": {},
   "outputs": [],
   "source": [
    "df_feat_one = pd.DataFrame({\"Gene\": gene_list, \"Variant\": pair_list})\n",
    "df_feat_two = pd.DataFrame(feat_list)\n",
    "df_feat = pd.concat([df_feat_one, df_feat_two], axis=1)"
   ]
  },
  {
   "cell_type": "code",
   "execution_count": 110,
   "id": "46299cd3",
   "metadata": {},
   "outputs": [],
   "source": [
    "df_feat.to_csv(\n",
    "    f\"{data_dir}{protein_suffix}_var_feat_importance{feature_type}.csv\",\n",
    "    index=False,\n",
    ")"
   ]
  },
  {
   "cell_type": "code",
   "execution_count": 111,
   "id": "5ac622bd",
   "metadata": {},
   "outputs": [
    {
     "data": {
      "text/plain": [
       "153"
      ]
     },
     "execution_count": 111,
     "metadata": {},
     "output_type": "execute_result"
    }
   ],
   "source": [
    "len(f1score_macro_list)"
   ]
  },
  {
   "cell_type": "code",
   "execution_count": 165,
   "id": "54c22fed",
   "metadata": {},
   "outputs": [],
   "source": [
    "result_csv = pd.DataFrame(\n",
    "    {\n",
    "        \"Gene\": gene_list,\n",
    "        \"Variant\": pair_list,\n",
    "        \"F1_Score\": f1score_macro_list\n",
    "        # \"F1_Score_shuffled\": f1score_macro_shuff_list,\n",
    "    }\n",
    ")\n",
    "result_csv.to_csv(\n",
    "    f\"{data_dir}/compound_pred_{feature_type}.csv\",\n",
    "    index=False,\n",
    ")"
   ]
  },
  {
   "cell_type": "markdown",
   "id": "3c5ff271",
   "metadata": {},
   "source": [
    "### Controls - Well Location Classification"
   ]
  },
  {
   "cell_type": "code",
   "execution_count": 33,
   "id": "fe1a0575",
   "metadata": {},
   "outputs": [],
   "source": [
    "control_profiles = sc_profiles[\n",
    "    sc_profiles[\"Metadata_broad_sample\"].isna()\n",
    "].reset_index(drop=True)\n",
    "\n",
    "control_group = control_profiles.groupby(\"Metadata_Well\").groups"
   ]
  },
  {
   "cell_type": "code",
   "execution_count": 49,
   "id": "02e8ad06",
   "metadata": {},
   "outputs": [],
   "source": [
    "control_group = control_profiles.groupby(\"Metadata_Well\").groups\n",
    "well_list = list(control_profiles[\"Metadata_Well\"].unique())"
   ]
  },
  {
   "cell_type": "code",
   "execution_count": 12,
   "id": "efdcfb6e",
   "metadata": {
    "collapsed": true
   },
   "outputs": [
    {
     "data": {
      "application/vnd.jupyter.widget-view+json": {
       "model_id": "2f35f7cea984488c95ce87ee591a9d84",
       "version_major": 2,
       "version_minor": 0
      },
      "text/plain": [
       "  0%|          | 0/63 [00:00<?, ?it/s]"
      ]
     },
     "metadata": {},
     "output_type": "display_data"
    },
    {
     "data": {
      "application/vnd.jupyter.widget-view+json": {
       "model_id": "fb35236a03594a728b7763fc0a1e1d7f",
       "version_major": 2,
       "version_minor": 0
      },
      "text/plain": [
       "  0%|          | 0/62 [00:00<?, ?it/s]"
      ]
     },
     "metadata": {},
     "output_type": "display_data"
    },
    {
     "data": {
      "application/vnd.jupyter.widget-view+json": {
       "model_id": "056574a17a1c402e93f31a817523ba1e",
       "version_major": 2,
       "version_minor": 0
      },
      "text/plain": [
       "  0%|          | 0/61 [00:00<?, ?it/s]"
      ]
     },
     "metadata": {},
     "output_type": "display_data"
    },
    {
     "data": {
      "application/vnd.jupyter.widget-view+json": {
       "model_id": "935d220e255c410fae0a722f95756b18",
       "version_major": 2,
       "version_minor": 0
      },
      "text/plain": [
       "  0%|          | 0/60 [00:00<?, ?it/s]"
      ]
     },
     "metadata": {},
     "output_type": "display_data"
    },
    {
     "data": {
      "application/vnd.jupyter.widget-view+json": {
       "model_id": "1c68ee8319804fa6a09612e9dafe25f9",
       "version_major": 2,
       "version_minor": 0
      },
      "text/plain": [
       "  0%|          | 0/59 [00:00<?, ?it/s]"
      ]
     },
     "metadata": {},
     "output_type": "display_data"
    },
    {
     "data": {
      "application/vnd.jupyter.widget-view+json": {
       "model_id": "c3bd1a794d6247a594651414e2491e37",
       "version_major": 2,
       "version_minor": 0
      },
      "text/plain": [
       "  0%|          | 0/58 [00:00<?, ?it/s]"
      ]
     },
     "metadata": {},
     "output_type": "display_data"
    },
    {
     "data": {
      "application/vnd.jupyter.widget-view+json": {
       "model_id": "711ac2f2a40c4febbe0e40793cb83c97",
       "version_major": 2,
       "version_minor": 0
      },
      "text/plain": [
       "  0%|          | 0/57 [00:00<?, ?it/s]"
      ]
     },
     "metadata": {},
     "output_type": "display_data"
    },
    {
     "data": {
      "application/vnd.jupyter.widget-view+json": {
       "model_id": "11c1916b9a7e45628c77b61ae06bd036",
       "version_major": 2,
       "version_minor": 0
      },
      "text/plain": [
       "  0%|          | 0/56 [00:00<?, ?it/s]"
      ]
     },
     "metadata": {},
     "output_type": "display_data"
    },
    {
     "data": {
      "application/vnd.jupyter.widget-view+json": {
       "model_id": "2f797463bbb64ddf83c216e4a5b90771",
       "version_major": 2,
       "version_minor": 0
      },
      "text/plain": [
       "  0%|          | 0/55 [00:00<?, ?it/s]"
      ]
     },
     "metadata": {},
     "output_type": "display_data"
    },
    {
     "data": {
      "application/vnd.jupyter.widget-view+json": {
       "model_id": "ba530a60dc6548ea8231746f2ebbbc7b",
       "version_major": 2,
       "version_minor": 0
      },
      "text/plain": [
       "  0%|          | 0/54 [00:00<?, ?it/s]"
      ]
     },
     "metadata": {},
     "output_type": "display_data"
    },
    {
     "data": {
      "application/vnd.jupyter.widget-view+json": {
       "model_id": "dce8aa5cd90e4978a4e565cdbbcf99cb",
       "version_major": 2,
       "version_minor": 0
      },
      "text/plain": [
       "  0%|          | 0/53 [00:00<?, ?it/s]"
      ]
     },
     "metadata": {},
     "output_type": "display_data"
    },
    {
     "data": {
      "application/vnd.jupyter.widget-view+json": {
       "model_id": "efda6ae9cb5249d4a4600b02cf37a679",
       "version_major": 2,
       "version_minor": 0
      },
      "text/plain": [
       "  0%|          | 0/52 [00:00<?, ?it/s]"
      ]
     },
     "metadata": {},
     "output_type": "display_data"
    },
    {
     "data": {
      "application/vnd.jupyter.widget-view+json": {
       "model_id": "410201bdcda846f086229fa0e11d6da6",
       "version_major": 2,
       "version_minor": 0
      },
      "text/plain": [
       "  0%|          | 0/51 [00:00<?, ?it/s]"
      ]
     },
     "metadata": {},
     "output_type": "display_data"
    },
    {
     "data": {
      "application/vnd.jupyter.widget-view+json": {
       "model_id": "e3774c983b044c26a5ade3083a015f55",
       "version_major": 2,
       "version_minor": 0
      },
      "text/plain": [
       "  0%|          | 0/50 [00:00<?, ?it/s]"
      ]
     },
     "metadata": {},
     "output_type": "display_data"
    },
    {
     "data": {
      "application/vnd.jupyter.widget-view+json": {
       "model_id": "03107f4715d8496299f6ee4d79474cd3",
       "version_major": 2,
       "version_minor": 0
      },
      "text/plain": [
       "  0%|          | 0/49 [00:00<?, ?it/s]"
      ]
     },
     "metadata": {},
     "output_type": "display_data"
    },
    {
     "data": {
      "application/vnd.jupyter.widget-view+json": {
       "model_id": "da3a839525f54235b05163e174cf61b0",
       "version_major": 2,
       "version_minor": 0
      },
      "text/plain": [
       "  0%|          | 0/48 [00:00<?, ?it/s]"
      ]
     },
     "metadata": {},
     "output_type": "display_data"
    },
    {
     "data": {
      "application/vnd.jupyter.widget-view+json": {
       "model_id": "c26f3b2d747248fbaa463b045e7bb1b4",
       "version_major": 2,
       "version_minor": 0
      },
      "text/plain": [
       "  0%|          | 0/47 [00:00<?, ?it/s]"
      ]
     },
     "metadata": {},
     "output_type": "display_data"
    },
    {
     "data": {
      "application/vnd.jupyter.widget-view+json": {
       "model_id": "01ed7465725b45dc871102fb41e99421",
       "version_major": 2,
       "version_minor": 0
      },
      "text/plain": [
       "  0%|          | 0/46 [00:00<?, ?it/s]"
      ]
     },
     "metadata": {},
     "output_type": "display_data"
    },
    {
     "data": {
      "application/vnd.jupyter.widget-view+json": {
       "model_id": "ca977e92a70045348caa8ec98a5647ef",
       "version_major": 2,
       "version_minor": 0
      },
      "text/plain": [
       "  0%|          | 0/45 [00:00<?, ?it/s]"
      ]
     },
     "metadata": {},
     "output_type": "display_data"
    },
    {
     "data": {
      "application/vnd.jupyter.widget-view+json": {
       "model_id": "9e6e67a3e0d24e18b45b979c43c65516",
       "version_major": 2,
       "version_minor": 0
      },
      "text/plain": [
       "  0%|          | 0/44 [00:00<?, ?it/s]"
      ]
     },
     "metadata": {},
     "output_type": "display_data"
    },
    {
     "data": {
      "application/vnd.jupyter.widget-view+json": {
       "model_id": "ddf7291fb8754c05a09af56996ed05fc",
       "version_major": 2,
       "version_minor": 0
      },
      "text/plain": [
       "  0%|          | 0/43 [00:00<?, ?it/s]"
      ]
     },
     "metadata": {},
     "output_type": "display_data"
    },
    {
     "data": {
      "application/vnd.jupyter.widget-view+json": {
       "model_id": "ce3bf59dab094efba3d4ecb1988ac73d",
       "version_major": 2,
       "version_minor": 0
      },
      "text/plain": [
       "  0%|          | 0/42 [00:00<?, ?it/s]"
      ]
     },
     "metadata": {},
     "output_type": "display_data"
    },
    {
     "data": {
      "application/vnd.jupyter.widget-view+json": {
       "model_id": "73468dd7b0ec4910bff7b67054685e11",
       "version_major": 2,
       "version_minor": 0
      },
      "text/plain": [
       "  0%|          | 0/41 [00:00<?, ?it/s]"
      ]
     },
     "metadata": {},
     "output_type": "display_data"
    },
    {
     "data": {
      "application/vnd.jupyter.widget-view+json": {
       "model_id": "965b73d69cba40908588927eea894b18",
       "version_major": 2,
       "version_minor": 0
      },
      "text/plain": [
       "  0%|          | 0/40 [00:00<?, ?it/s]"
      ]
     },
     "metadata": {},
     "output_type": "display_data"
    },
    {
     "data": {
      "application/vnd.jupyter.widget-view+json": {
       "model_id": "e987e1311bde4ce9a966dd79c8699b79",
       "version_major": 2,
       "version_minor": 0
      },
      "text/plain": [
       "  0%|          | 0/39 [00:00<?, ?it/s]"
      ]
     },
     "metadata": {},
     "output_type": "display_data"
    },
    {
     "data": {
      "application/vnd.jupyter.widget-view+json": {
       "model_id": "01f05a1f589c41f5ba303be5dc3fab22",
       "version_major": 2,
       "version_minor": 0
      },
      "text/plain": [
       "  0%|          | 0/38 [00:00<?, ?it/s]"
      ]
     },
     "metadata": {},
     "output_type": "display_data"
    },
    {
     "data": {
      "application/vnd.jupyter.widget-view+json": {
       "model_id": "cde0ca2b61044faca52970ff8043eb1b",
       "version_major": 2,
       "version_minor": 0
      },
      "text/plain": [
       "  0%|          | 0/37 [00:00<?, ?it/s]"
      ]
     },
     "metadata": {},
     "output_type": "display_data"
    },
    {
     "data": {
      "application/vnd.jupyter.widget-view+json": {
       "model_id": "c13a7bd55a4148aebf93071084fece3a",
       "version_major": 2,
       "version_minor": 0
      },
      "text/plain": [
       "  0%|          | 0/36 [00:00<?, ?it/s]"
      ]
     },
     "metadata": {},
     "output_type": "display_data"
    },
    {
     "data": {
      "application/vnd.jupyter.widget-view+json": {
       "model_id": "16d6029fd47f4b37bd660c2f30e4ccaa",
       "version_major": 2,
       "version_minor": 0
      },
      "text/plain": [
       "  0%|          | 0/35 [00:00<?, ?it/s]"
      ]
     },
     "metadata": {},
     "output_type": "display_data"
    },
    {
     "data": {
      "application/vnd.jupyter.widget-view+json": {
       "model_id": "8c1f84d0cf834efb98371d5cbcafb933",
       "version_major": 2,
       "version_minor": 0
      },
      "text/plain": [
       "  0%|          | 0/34 [00:00<?, ?it/s]"
      ]
     },
     "metadata": {},
     "output_type": "display_data"
    },
    {
     "data": {
      "application/vnd.jupyter.widget-view+json": {
       "model_id": "0d5e648fb3c645e3b38cf292cd703f25",
       "version_major": 2,
       "version_minor": 0
      },
      "text/plain": [
       "  0%|          | 0/33 [00:00<?, ?it/s]"
      ]
     },
     "metadata": {},
     "output_type": "display_data"
    },
    {
     "data": {
      "application/vnd.jupyter.widget-view+json": {
       "model_id": "7d4a47d70096414ea10a71da528bd16e",
       "version_major": 2,
       "version_minor": 0
      },
      "text/plain": [
       "  0%|          | 0/32 [00:00<?, ?it/s]"
      ]
     },
     "metadata": {},
     "output_type": "display_data"
    },
    {
     "data": {
      "application/vnd.jupyter.widget-view+json": {
       "model_id": "e84c0888155b44dbb9c8d61c80572bcd",
       "version_major": 2,
       "version_minor": 0
      },
      "text/plain": [
       "  0%|          | 0/31 [00:00<?, ?it/s]"
      ]
     },
     "metadata": {},
     "output_type": "display_data"
    },
    {
     "data": {
      "application/vnd.jupyter.widget-view+json": {
       "model_id": "a0f98ab877b441fba85c1e1bb532d5be",
       "version_major": 2,
       "version_minor": 0
      },
      "text/plain": [
       "  0%|          | 0/30 [00:00<?, ?it/s]"
      ]
     },
     "metadata": {},
     "output_type": "display_data"
    },
    {
     "data": {
      "application/vnd.jupyter.widget-view+json": {
       "model_id": "e9dacc1bc0cb418fb0dd1980c7d87951",
       "version_major": 2,
       "version_minor": 0
      },
      "text/plain": [
       "  0%|          | 0/29 [00:00<?, ?it/s]"
      ]
     },
     "metadata": {},
     "output_type": "display_data"
    },
    {
     "data": {
      "application/vnd.jupyter.widget-view+json": {
       "model_id": "38483c9247024eeda9c2d2a56e81b9b6",
       "version_major": 2,
       "version_minor": 0
      },
      "text/plain": [
       "  0%|          | 0/28 [00:00<?, ?it/s]"
      ]
     },
     "metadata": {},
     "output_type": "display_data"
    },
    {
     "data": {
      "application/vnd.jupyter.widget-view+json": {
       "model_id": "994a1e735ebf436eb9e97deacff2f066",
       "version_major": 2,
       "version_minor": 0
      },
      "text/plain": [
       "  0%|          | 0/27 [00:00<?, ?it/s]"
      ]
     },
     "metadata": {},
     "output_type": "display_data"
    },
    {
     "data": {
      "application/vnd.jupyter.widget-view+json": {
       "model_id": "8fdf04ab0c85413694c2ac85706528de",
       "version_major": 2,
       "version_minor": 0
      },
      "text/plain": [
       "  0%|          | 0/26 [00:00<?, ?it/s]"
      ]
     },
     "metadata": {},
     "output_type": "display_data"
    },
    {
     "data": {
      "application/vnd.jupyter.widget-view+json": {
       "model_id": "622d182a20194417968afa9981f62b1c",
       "version_major": 2,
       "version_minor": 0
      },
      "text/plain": [
       "  0%|          | 0/25 [00:00<?, ?it/s]"
      ]
     },
     "metadata": {},
     "output_type": "display_data"
    },
    {
     "data": {
      "application/vnd.jupyter.widget-view+json": {
       "model_id": "d921a8a25e704a858c7deb853c15cc62",
       "version_major": 2,
       "version_minor": 0
      },
      "text/plain": [
       "  0%|          | 0/24 [00:00<?, ?it/s]"
      ]
     },
     "metadata": {},
     "output_type": "display_data"
    },
    {
     "data": {
      "application/vnd.jupyter.widget-view+json": {
       "model_id": "5befb45a9e784c33bfcde774eaca9ede",
       "version_major": 2,
       "version_minor": 0
      },
      "text/plain": [
       "  0%|          | 0/23 [00:00<?, ?it/s]"
      ]
     },
     "metadata": {},
     "output_type": "display_data"
    },
    {
     "data": {
      "application/vnd.jupyter.widget-view+json": {
       "model_id": "66805d9398414590b084ed54e097e4fa",
       "version_major": 2,
       "version_minor": 0
      },
      "text/plain": [
       "  0%|          | 0/22 [00:00<?, ?it/s]"
      ]
     },
     "metadata": {},
     "output_type": "display_data"
    },
    {
     "data": {
      "application/vnd.jupyter.widget-view+json": {
       "model_id": "c1b7010fb3ae492ab12dbc6220a7330e",
       "version_major": 2,
       "version_minor": 0
      },
      "text/plain": [
       "  0%|          | 0/21 [00:00<?, ?it/s]"
      ]
     },
     "metadata": {},
     "output_type": "display_data"
    },
    {
     "data": {
      "application/vnd.jupyter.widget-view+json": {
       "model_id": "de5f8d5081dd4e89af105db45d75a692",
       "version_major": 2,
       "version_minor": 0
      },
      "text/plain": [
       "  0%|          | 0/20 [00:00<?, ?it/s]"
      ]
     },
     "metadata": {},
     "output_type": "display_data"
    },
    {
     "data": {
      "application/vnd.jupyter.widget-view+json": {
       "model_id": "453d723f619d44b0ae5bc6641e2f1315",
       "version_major": 2,
       "version_minor": 0
      },
      "text/plain": [
       "  0%|          | 0/19 [00:00<?, ?it/s]"
      ]
     },
     "metadata": {},
     "output_type": "display_data"
    },
    {
     "data": {
      "application/vnd.jupyter.widget-view+json": {
       "model_id": "14e4202f084e4b109bc325c44f787046",
       "version_major": 2,
       "version_minor": 0
      },
      "text/plain": [
       "  0%|          | 0/18 [00:00<?, ?it/s]"
      ]
     },
     "metadata": {},
     "output_type": "display_data"
    },
    {
     "data": {
      "application/vnd.jupyter.widget-view+json": {
       "model_id": "12ef03ab1c3c40b0b9d96090cc8c97ac",
       "version_major": 2,
       "version_minor": 0
      },
      "text/plain": [
       "  0%|          | 0/17 [00:00<?, ?it/s]"
      ]
     },
     "metadata": {},
     "output_type": "display_data"
    },
    {
     "data": {
      "application/vnd.jupyter.widget-view+json": {
       "model_id": "a915b0dd818d477fbcde9ced2ff84f8e",
       "version_major": 2,
       "version_minor": 0
      },
      "text/plain": [
       "  0%|          | 0/16 [00:00<?, ?it/s]"
      ]
     },
     "metadata": {},
     "output_type": "display_data"
    },
    {
     "data": {
      "application/vnd.jupyter.widget-view+json": {
       "model_id": "06afa630b38943dcb27a171b1450bfd7",
       "version_major": 2,
       "version_minor": 0
      },
      "text/plain": [
       "  0%|          | 0/15 [00:00<?, ?it/s]"
      ]
     },
     "metadata": {},
     "output_type": "display_data"
    },
    {
     "data": {
      "application/vnd.jupyter.widget-view+json": {
       "model_id": "10eea53272304e09a014238e14aa9324",
       "version_major": 2,
       "version_minor": 0
      },
      "text/plain": [
       "  0%|          | 0/14 [00:00<?, ?it/s]"
      ]
     },
     "metadata": {},
     "output_type": "display_data"
    },
    {
     "data": {
      "application/vnd.jupyter.widget-view+json": {
       "model_id": "4f475458766f4c37ae42277266ecfdb2",
       "version_major": 2,
       "version_minor": 0
      },
      "text/plain": [
       "  0%|          | 0/13 [00:00<?, ?it/s]"
      ]
     },
     "metadata": {},
     "output_type": "display_data"
    },
    {
     "data": {
      "application/vnd.jupyter.widget-view+json": {
       "model_id": "22de1e749eb34dfbb1764362cc52be5a",
       "version_major": 2,
       "version_minor": 0
      },
      "text/plain": [
       "  0%|          | 0/12 [00:00<?, ?it/s]"
      ]
     },
     "metadata": {},
     "output_type": "display_data"
    },
    {
     "data": {
      "application/vnd.jupyter.widget-view+json": {
       "model_id": "659d2df9e6704be9ba6df0a6617af585",
       "version_major": 2,
       "version_minor": 0
      },
      "text/plain": [
       "  0%|          | 0/11 [00:00<?, ?it/s]"
      ]
     },
     "metadata": {},
     "output_type": "display_data"
    },
    {
     "data": {
      "application/vnd.jupyter.widget-view+json": {
       "model_id": "49587e6cac374a73be181cd578e4677d",
       "version_major": 2,
       "version_minor": 0
      },
      "text/plain": [
       "  0%|          | 0/10 [00:00<?, ?it/s]"
      ]
     },
     "metadata": {},
     "output_type": "display_data"
    },
    {
     "data": {
      "application/vnd.jupyter.widget-view+json": {
       "model_id": "f6c9e29949a8467eb1b6da89697cf3de",
       "version_major": 2,
       "version_minor": 0
      },
      "text/plain": [
       "  0%|          | 0/9 [00:00<?, ?it/s]"
      ]
     },
     "metadata": {},
     "output_type": "display_data"
    },
    {
     "data": {
      "application/vnd.jupyter.widget-view+json": {
       "model_id": "337a7641932d4735860c9d2d4093fa97",
       "version_major": 2,
       "version_minor": 0
      },
      "text/plain": [
       "  0%|          | 0/8 [00:00<?, ?it/s]"
      ]
     },
     "metadata": {},
     "output_type": "display_data"
    },
    {
     "data": {
      "application/vnd.jupyter.widget-view+json": {
       "model_id": "fe51c31d735d47558cc9b1e812274811",
       "version_major": 2,
       "version_minor": 0
      },
      "text/plain": [
       "  0%|          | 0/7 [00:00<?, ?it/s]"
      ]
     },
     "metadata": {},
     "output_type": "display_data"
    },
    {
     "data": {
      "application/vnd.jupyter.widget-view+json": {
       "model_id": "38b614700a254917807bad81c935a71f",
       "version_major": 2,
       "version_minor": 0
      },
      "text/plain": [
       "  0%|          | 0/6 [00:00<?, ?it/s]"
      ]
     },
     "metadata": {},
     "output_type": "display_data"
    },
    {
     "data": {
      "application/vnd.jupyter.widget-view+json": {
       "model_id": "e0e55f0e4e654e69b73cde7538cb530a",
       "version_major": 2,
       "version_minor": 0
      },
      "text/plain": [
       "  0%|          | 0/5 [00:00<?, ?it/s]"
      ]
     },
     "metadata": {},
     "output_type": "display_data"
    },
    {
     "data": {
      "application/vnd.jupyter.widget-view+json": {
       "model_id": "76ff8c5c13644cf2b5f0358a2f194474",
       "version_major": 2,
       "version_minor": 0
      },
      "text/plain": [
       "  0%|          | 0/4 [00:00<?, ?it/s]"
      ]
     },
     "metadata": {},
     "output_type": "display_data"
    },
    {
     "data": {
      "application/vnd.jupyter.widget-view+json": {
       "model_id": "0f6d7df7091f4ea7a39982cf4ecb388b",
       "version_major": 2,
       "version_minor": 0
      },
      "text/plain": [
       "  0%|          | 0/3 [00:00<?, ?it/s]"
      ]
     },
     "metadata": {},
     "output_type": "display_data"
    },
    {
     "data": {
      "application/vnd.jupyter.widget-view+json": {
       "model_id": "a0c19c09b9d445dcb250ee1a35693656",
       "version_major": 2,
       "version_minor": 0
      },
      "text/plain": [
       "  0%|          | 0/2 [00:00<?, ?it/s]"
      ]
     },
     "metadata": {},
     "output_type": "display_data"
    },
    {
     "data": {
      "application/vnd.jupyter.widget-view+json": {
       "model_id": "b19c278ff19341bbad2aa6bdc8d27d42",
       "version_major": 2,
       "version_minor": 0
      },
      "text/plain": [
       "  0%|          | 0/1 [00:00<?, ?it/s]"
      ]
     },
     "metadata": {},
     "output_type": "display_data"
    }
   ],
   "source": [
    "f1score_macro_list = []\n",
    "gene_list = []\n",
    "pair_list = []\n",
    "f1score_macro_shuff_list = []\n",
    "feat_list = []\n",
    "\n",
    "for i in range(len(well_list) - 1):\n",
    "    well_one = well_list[i]\n",
    "    for j in tqdm(range(i + 1, len(well_list))):\n",
    "        well_two = well_list[j]\n",
    "\n",
    "        df_well_one = control_profiles.loc[control_group[well_one]]\n",
    "        df_well_two = control_profiles.loc[control_group[well_two]]\n",
    "\n",
    "        df_well_one[\"Label\"] = 1\n",
    "        df_well_two[\"Label\"] = 0\n",
    "\n",
    "        all_profiles = pd.concat([df_well_one, df_well_two], ignore_index=True)\n",
    "        X, y = all_profiles[feat_col], all_profiles[[\"Label\"]]\n",
    "\n",
    "        # Split the data\n",
    "        X_train, X_test, y_train, y_test = train_test_split(\n",
    "            X, y, test_size=0.3, random_state=1\n",
    "        )\n",
    "\n",
    "        # Create shuffled train labels\n",
    "        #     y_train_shuff = y_train.copy()\n",
    "        #     y_train_shuff[\"Label\"] = np.random.permutation(y_train.values)\n",
    "\n",
    "        # Model train and predict\n",
    "        model = xgb.XGBClassifier().fit(X_train, y_train)\n",
    "        preds = model.predict(X_test)\n",
    "\n",
    "        # Store feature importance\n",
    "        feat_importances = pd.Series(\n",
    "            model.feature_importances_, index=X_train.columns\n",
    "        )\n",
    "        feat_list.append(feat_importances)\n",
    "\n",
    "        #             model_shuff = xgb.XGBClassifier().fit(X_train, y_train_shuff)\n",
    "        #             preds_shuff = model_shuff.predict(X_test)\n",
    "\n",
    "        # Evaluate with metrics\n",
    "        f1score_macro = f1_score(y_test, preds, average=\"macro\")\n",
    "        #             f1score_macro_shuff = f1_score(y_test, preds_shuff, average=\"macro\")\n",
    "\n",
    "        #             f1score_macro_shuff_list.append(f1score_macro_shuff)\n",
    "        f1score_macro_list.append(f1score_macro)\n",
    "        gene_list.append(well_one)\n",
    "        pair_list.append(well_two)"
   ]
  },
  {
   "cell_type": "code",
   "execution_count": 13,
   "id": "6c1a589d",
   "metadata": {},
   "outputs": [],
   "source": [
    "ctrl_feat_one = pd.DataFrame({\"Gene\": gene_list, \"Variant\": pair_list})\n",
    "ctrl_feat_two = pd.DataFrame(feat_list)\n",
    "ctrl_feat = pd.concat([ctrl_feat_one, ctrl_feat_two], axis=1)"
   ]
  },
  {
   "cell_type": "code",
   "execution_count": 16,
   "id": "3dfceb9f",
   "metadata": {},
   "outputs": [],
   "source": [
    "ctrl_feat.to_csv(\n",
    "    f\"{data_dir}ctrl_feat_importance{feature_type}.csv\",\n",
    "    index=False,\n",
    ")"
   ]
  },
  {
   "cell_type": "code",
   "execution_count": 17,
   "id": "994f2711",
   "metadata": {},
   "outputs": [],
   "source": [
    "control_csv = pd.DataFrame(\n",
    "    {\n",
    "        \"Treatment\": gene_list,\n",
    "        \"Well_Pair\": pair_list,\n",
    "        \"F1_Score\": f1score_macro_list\n",
    "        # \"F1_Score_shuffled\": f1score_macro_shuff_list,\n",
    "    }\n",
    ")\n",
    "control_csv.to_csv(\n",
    "    f\"{data_dir}control_prediction{feature_type}.csv\",\n",
    "    index=False,\n",
    ")"
   ]
  },
  {
   "cell_type": "code",
   "execution_count": 18,
   "id": "7f801068",
   "metadata": {},
   "outputs": [
    {
     "data": {
      "text/html": [
       "<div>\n",
       "<style scoped>\n",
       "    .dataframe tbody tr th:only-of-type {\n",
       "        vertical-align: middle;\n",
       "    }\n",
       "\n",
       "    .dataframe tbody tr th {\n",
       "        vertical-align: top;\n",
       "    }\n",
       "\n",
       "    .dataframe thead th {\n",
       "        text-align: right;\n",
       "    }\n",
       "</style>\n",
       "<table border=\"1\" class=\"dataframe\">\n",
       "  <thead>\n",
       "    <tr style=\"text-align: right;\">\n",
       "      <th></th>\n",
       "      <th>Treatment</th>\n",
       "      <th>Well_Pair</th>\n",
       "      <th>F1_Score</th>\n",
       "    </tr>\n",
       "  </thead>\n",
       "  <tbody>\n",
       "    <tr>\n",
       "      <th>0</th>\n",
       "      <td>A05</td>\n",
       "      <td>A20</td>\n",
       "      <td>0.873941</td>\n",
       "    </tr>\n",
       "    <tr>\n",
       "      <th>1</th>\n",
       "      <td>A05</td>\n",
       "      <td>B12</td>\n",
       "      <td>0.857850</td>\n",
       "    </tr>\n",
       "    <tr>\n",
       "      <th>2</th>\n",
       "      <td>A05</td>\n",
       "      <td>B13</td>\n",
       "      <td>0.916295</td>\n",
       "    </tr>\n",
       "    <tr>\n",
       "      <th>3</th>\n",
       "      <td>A05</td>\n",
       "      <td>C09</td>\n",
       "      <td>0.932413</td>\n",
       "    </tr>\n",
       "    <tr>\n",
       "      <th>4</th>\n",
       "      <td>A05</td>\n",
       "      <td>C16</td>\n",
       "      <td>0.915825</td>\n",
       "    </tr>\n",
       "    <tr>\n",
       "      <th>...</th>\n",
       "      <td>...</td>\n",
       "      <td>...</td>\n",
       "      <td>...</td>\n",
       "    </tr>\n",
       "    <tr>\n",
       "      <th>2011</th>\n",
       "      <td>O11</td>\n",
       "      <td>P11</td>\n",
       "      <td>0.764310</td>\n",
       "    </tr>\n",
       "    <tr>\n",
       "      <th>2012</th>\n",
       "      <td>O11</td>\n",
       "      <td>P24</td>\n",
       "      <td>0.932127</td>\n",
       "    </tr>\n",
       "    <tr>\n",
       "      <th>2013</th>\n",
       "      <td>O12</td>\n",
       "      <td>P11</td>\n",
       "      <td>0.824010</td>\n",
       "    </tr>\n",
       "    <tr>\n",
       "      <th>2014</th>\n",
       "      <td>O12</td>\n",
       "      <td>P24</td>\n",
       "      <td>0.966330</td>\n",
       "    </tr>\n",
       "    <tr>\n",
       "      <th>2015</th>\n",
       "      <td>P11</td>\n",
       "      <td>P24</td>\n",
       "      <td>0.923810</td>\n",
       "    </tr>\n",
       "  </tbody>\n",
       "</table>\n",
       "<p>2016 rows × 3 columns</p>\n",
       "</div>"
      ],
      "text/plain": [
       "     Treatment Well_Pair  F1_Score\n",
       "0          A05       A20  0.873941\n",
       "1          A05       B12  0.857850\n",
       "2          A05       B13  0.916295\n",
       "3          A05       C09  0.932413\n",
       "4          A05       C16  0.915825\n",
       "...        ...       ...       ...\n",
       "2011       O11       P11  0.764310\n",
       "2012       O11       P24  0.932127\n",
       "2013       O12       P11  0.824010\n",
       "2014       O12       P24  0.966330\n",
       "2015       P11       P24  0.923810\n",
       "\n",
       "[2016 rows x 3 columns]"
      ]
     },
     "execution_count": 18,
     "metadata": {},
     "output_type": "execute_result"
    }
   ],
   "source": [
    "control_csv"
   ]
  },
  {
   "cell_type": "code",
   "execution_count": 28,
   "id": "bd7ebab3",
   "metadata": {},
   "outputs": [
    {
     "data": {
      "text/html": [
       "<div>\n",
       "<style scoped>\n",
       "    .dataframe tbody tr th:only-of-type {\n",
       "        vertical-align: middle;\n",
       "    }\n",
       "\n",
       "    .dataframe tbody tr th {\n",
       "        vertical-align: top;\n",
       "    }\n",
       "\n",
       "    .dataframe thead th {\n",
       "        text-align: right;\n",
       "    }\n",
       "</style>\n",
       "<table border=\"1\" class=\"dataframe\">\n",
       "  <thead>\n",
       "    <tr style=\"text-align: right;\">\n",
       "      <th></th>\n",
       "      <th>Metadata_Plate</th>\n",
       "      <th>Metadata_Well</th>\n",
       "      <th>Metadata_Site_Count</th>\n",
       "      <th>Metadata_Count_Cells</th>\n",
       "      <th>Metadata_Count_CellsIncludingEdges</th>\n",
       "      <th>Metadata_Count_Cytoplasm</th>\n",
       "      <th>Metadata_Count_Nuclei</th>\n",
       "      <th>Metadata_Count_NucleiIncludingEdges</th>\n",
       "      <th>Metadata_Object_Count</th>\n",
       "      <th>Image_Granularity_10_AGP</th>\n",
       "      <th>...</th>\n",
       "      <th>Nuclei_Texture_Variance_RNA_10_02_256</th>\n",
       "      <th>Nuclei_Texture_Variance_RNA_10_03_256</th>\n",
       "      <th>Nuclei_Texture_Variance_RNA_3_00_256</th>\n",
       "      <th>Nuclei_Texture_Variance_RNA_3_01_256</th>\n",
       "      <th>Nuclei_Texture_Variance_RNA_3_02_256</th>\n",
       "      <th>Nuclei_Texture_Variance_RNA_3_03_256</th>\n",
       "      <th>Nuclei_Texture_Variance_RNA_5_00_256</th>\n",
       "      <th>Nuclei_Texture_Variance_RNA_5_01_256</th>\n",
       "      <th>Nuclei_Texture_Variance_RNA_5_02_256</th>\n",
       "      <th>Nuclei_Texture_Variance_RNA_5_03_256</th>\n",
       "    </tr>\n",
       "  </thead>\n",
       "  <tbody>\n",
       "    <tr>\n",
       "      <th>0</th>\n",
       "      <td>BR00121425</td>\n",
       "      <td>A01</td>\n",
       "      <td>9</td>\n",
       "      <td>1536.0</td>\n",
       "      <td>1720.0</td>\n",
       "      <td>1536.0</td>\n",
       "      <td>1536.0</td>\n",
       "      <td>1720.0</td>\n",
       "      <td>1536</td>\n",
       "      <td>3.804578</td>\n",
       "      <td>...</td>\n",
       "      <td>58.128264</td>\n",
       "      <td>57.891778</td>\n",
       "      <td>54.025579</td>\n",
       "      <td>54.296074</td>\n",
       "      <td>53.784118</td>\n",
       "      <td>54.264500</td>\n",
       "      <td>54.751629</td>\n",
       "      <td>56.083055</td>\n",
       "      <td>54.495342</td>\n",
       "      <td>56.143226</td>\n",
       "    </tr>\n",
       "    <tr>\n",
       "      <th>1</th>\n",
       "      <td>BR00121425</td>\n",
       "      <td>A02</td>\n",
       "      <td>9</td>\n",
       "      <td>1638.0</td>\n",
       "      <td>1851.0</td>\n",
       "      <td>1638.0</td>\n",
       "      <td>1638.0</td>\n",
       "      <td>1851.0</td>\n",
       "      <td>1638</td>\n",
       "      <td>3.418988</td>\n",
       "      <td>...</td>\n",
       "      <td>69.045487</td>\n",
       "      <td>68.514572</td>\n",
       "      <td>63.925842</td>\n",
       "      <td>64.452621</td>\n",
       "      <td>63.880146</td>\n",
       "      <td>64.438313</td>\n",
       "      <td>64.935333</td>\n",
       "      <td>66.774926</td>\n",
       "      <td>64.918013</td>\n",
       "      <td>66.695783</td>\n",
       "    </tr>\n",
       "    <tr>\n",
       "      <th>2</th>\n",
       "      <td>BR00121425</td>\n",
       "      <td>A03</td>\n",
       "      <td>9</td>\n",
       "      <td>1813.0</td>\n",
       "      <td>2064.0</td>\n",
       "      <td>1813.0</td>\n",
       "      <td>1813.0</td>\n",
       "      <td>2064.0</td>\n",
       "      <td>1813</td>\n",
       "      <td>3.436863</td>\n",
       "      <td>...</td>\n",
       "      <td>53.962677</td>\n",
       "      <td>53.468636</td>\n",
       "      <td>50.307543</td>\n",
       "      <td>50.564112</td>\n",
       "      <td>50.349373</td>\n",
       "      <td>50.804767</td>\n",
       "      <td>50.927844</td>\n",
       "      <td>52.173601</td>\n",
       "      <td>51.018266</td>\n",
       "      <td>52.359216</td>\n",
       "    </tr>\n",
       "    <tr>\n",
       "      <th>3</th>\n",
       "      <td>BR00121425</td>\n",
       "      <td>A04</td>\n",
       "      <td>9</td>\n",
       "      <td>1890.0</td>\n",
       "      <td>2095.0</td>\n",
       "      <td>1890.0</td>\n",
       "      <td>1890.0</td>\n",
       "      <td>2095.0</td>\n",
       "      <td>1890</td>\n",
       "      <td>2.995552</td>\n",
       "      <td>...</td>\n",
       "      <td>56.310525</td>\n",
       "      <td>55.459726</td>\n",
       "      <td>52.042298</td>\n",
       "      <td>52.485576</td>\n",
       "      <td>52.182421</td>\n",
       "      <td>52.665204</td>\n",
       "      <td>52.906175</td>\n",
       "      <td>54.447889</td>\n",
       "      <td>53.047086</td>\n",
       "      <td>54.514131</td>\n",
       "    </tr>\n",
       "    <tr>\n",
       "      <th>4</th>\n",
       "      <td>BR00121425</td>\n",
       "      <td>A05</td>\n",
       "      <td>9</td>\n",
       "      <td>1924.0</td>\n",
       "      <td>2119.0</td>\n",
       "      <td>1924.0</td>\n",
       "      <td>1924.0</td>\n",
       "      <td>2119.0</td>\n",
       "      <td>1924</td>\n",
       "      <td>3.415250</td>\n",
       "      <td>...</td>\n",
       "      <td>54.162827</td>\n",
       "      <td>52.949430</td>\n",
       "      <td>50.126778</td>\n",
       "      <td>50.390310</td>\n",
       "      <td>50.137350</td>\n",
       "      <td>50.705529</td>\n",
       "      <td>50.950715</td>\n",
       "      <td>52.211797</td>\n",
       "      <td>50.987892</td>\n",
       "      <td>52.514226</td>\n",
       "    </tr>\n",
       "    <tr>\n",
       "      <th>...</th>\n",
       "      <td>...</td>\n",
       "      <td>...</td>\n",
       "      <td>...</td>\n",
       "      <td>...</td>\n",
       "      <td>...</td>\n",
       "      <td>...</td>\n",
       "      <td>...</td>\n",
       "      <td>...</td>\n",
       "      <td>...</td>\n",
       "      <td>...</td>\n",
       "      <td>...</td>\n",
       "      <td>...</td>\n",
       "      <td>...</td>\n",
       "      <td>...</td>\n",
       "      <td>...</td>\n",
       "      <td>...</td>\n",
       "      <td>...</td>\n",
       "      <td>...</td>\n",
       "      <td>...</td>\n",
       "      <td>...</td>\n",
       "      <td>...</td>\n",
       "    </tr>\n",
       "    <tr>\n",
       "      <th>379</th>\n",
       "      <td>BR00121425</td>\n",
       "      <td>P20</td>\n",
       "      <td>9</td>\n",
       "      <td>1460.0</td>\n",
       "      <td>1632.0</td>\n",
       "      <td>1460.0</td>\n",
       "      <td>1460.0</td>\n",
       "      <td>1632.0</td>\n",
       "      <td>1460</td>\n",
       "      <td>3.039396</td>\n",
       "      <td>...</td>\n",
       "      <td>32.490915</td>\n",
       "      <td>32.109682</td>\n",
       "      <td>29.975073</td>\n",
       "      <td>30.278136</td>\n",
       "      <td>29.992891</td>\n",
       "      <td>30.250245</td>\n",
       "      <td>30.492269</td>\n",
       "      <td>31.426101</td>\n",
       "      <td>30.487478</td>\n",
       "      <td>31.396251</td>\n",
       "    </tr>\n",
       "    <tr>\n",
       "      <th>380</th>\n",
       "      <td>BR00121425</td>\n",
       "      <td>P21</td>\n",
       "      <td>9</td>\n",
       "      <td>394.0</td>\n",
       "      <td>442.0</td>\n",
       "      <td>394.0</td>\n",
       "      <td>394.0</td>\n",
       "      <td>442.0</td>\n",
       "      <td>394</td>\n",
       "      <td>2.735164</td>\n",
       "      <td>...</td>\n",
       "      <td>22.876807</td>\n",
       "      <td>22.506967</td>\n",
       "      <td>21.159320</td>\n",
       "      <td>21.253429</td>\n",
       "      <td>21.025828</td>\n",
       "      <td>21.265181</td>\n",
       "      <td>21.578242</td>\n",
       "      <td>22.218869</td>\n",
       "      <td>21.446855</td>\n",
       "      <td>22.126793</td>\n",
       "    </tr>\n",
       "    <tr>\n",
       "      <th>381</th>\n",
       "      <td>BR00121425</td>\n",
       "      <td>P22</td>\n",
       "      <td>9</td>\n",
       "      <td>1519.0</td>\n",
       "      <td>1691.0</td>\n",
       "      <td>1519.0</td>\n",
       "      <td>1519.0</td>\n",
       "      <td>1691.0</td>\n",
       "      <td>1519</td>\n",
       "      <td>2.795665</td>\n",
       "      <td>...</td>\n",
       "      <td>28.139448</td>\n",
       "      <td>28.105485</td>\n",
       "      <td>26.115582</td>\n",
       "      <td>26.336469</td>\n",
       "      <td>26.081936</td>\n",
       "      <td>26.302242</td>\n",
       "      <td>26.523964</td>\n",
       "      <td>27.357752</td>\n",
       "      <td>26.460637</td>\n",
       "      <td>27.194374</td>\n",
       "    </tr>\n",
       "    <tr>\n",
       "      <th>382</th>\n",
       "      <td>BR00121425</td>\n",
       "      <td>P23</td>\n",
       "      <td>9</td>\n",
       "      <td>1391.0</td>\n",
       "      <td>1535.0</td>\n",
       "      <td>1391.0</td>\n",
       "      <td>1391.0</td>\n",
       "      <td>1535.0</td>\n",
       "      <td>1391</td>\n",
       "      <td>2.848995</td>\n",
       "      <td>...</td>\n",
       "      <td>15.477182</td>\n",
       "      <td>15.148437</td>\n",
       "      <td>14.475958</td>\n",
       "      <td>14.565782</td>\n",
       "      <td>14.417433</td>\n",
       "      <td>14.530295</td>\n",
       "      <td>14.663370</td>\n",
       "      <td>14.996223</td>\n",
       "      <td>14.610082</td>\n",
       "      <td>14.990295</td>\n",
       "    </tr>\n",
       "    <tr>\n",
       "      <th>383</th>\n",
       "      <td>BR00121425</td>\n",
       "      <td>P24</td>\n",
       "      <td>9</td>\n",
       "      <td>1502.0</td>\n",
       "      <td>1682.0</td>\n",
       "      <td>1502.0</td>\n",
       "      <td>1502.0</td>\n",
       "      <td>1682.0</td>\n",
       "      <td>1502</td>\n",
       "      <td>3.340251</td>\n",
       "      <td>...</td>\n",
       "      <td>18.325082</td>\n",
       "      <td>17.978140</td>\n",
       "      <td>17.057508</td>\n",
       "      <td>17.170341</td>\n",
       "      <td>17.037623</td>\n",
       "      <td>17.235763</td>\n",
       "      <td>17.319608</td>\n",
       "      <td>17.738058</td>\n",
       "      <td>17.298756</td>\n",
       "      <td>17.789228</td>\n",
       "    </tr>\n",
       "  </tbody>\n",
       "</table>\n",
       "<p>384 rows × 7657 columns</p>\n",
       "</div>"
      ],
      "text/plain": [
       "    Metadata_Plate Metadata_Well  Metadata_Site_Count  Metadata_Count_Cells  \\\n",
       "0       BR00121425           A01                    9                1536.0   \n",
       "1       BR00121425           A02                    9                1638.0   \n",
       "2       BR00121425           A03                    9                1813.0   \n",
       "3       BR00121425           A04                    9                1890.0   \n",
       "4       BR00121425           A05                    9                1924.0   \n",
       "..             ...           ...                  ...                   ...   \n",
       "379     BR00121425           P20                    9                1460.0   \n",
       "380     BR00121425           P21                    9                 394.0   \n",
       "381     BR00121425           P22                    9                1519.0   \n",
       "382     BR00121425           P23                    9                1391.0   \n",
       "383     BR00121425           P24                    9                1502.0   \n",
       "\n",
       "     Metadata_Count_CellsIncludingEdges  Metadata_Count_Cytoplasm  \\\n",
       "0                                1720.0                    1536.0   \n",
       "1                                1851.0                    1638.0   \n",
       "2                                2064.0                    1813.0   \n",
       "3                                2095.0                    1890.0   \n",
       "4                                2119.0                    1924.0   \n",
       "..                                  ...                       ...   \n",
       "379                              1632.0                    1460.0   \n",
       "380                               442.0                     394.0   \n",
       "381                              1691.0                    1519.0   \n",
       "382                              1535.0                    1391.0   \n",
       "383                              1682.0                    1502.0   \n",
       "\n",
       "     Metadata_Count_Nuclei  Metadata_Count_NucleiIncludingEdges  \\\n",
       "0                   1536.0                               1720.0   \n",
       "1                   1638.0                               1851.0   \n",
       "2                   1813.0                               2064.0   \n",
       "3                   1890.0                               2095.0   \n",
       "4                   1924.0                               2119.0   \n",
       "..                     ...                                  ...   \n",
       "379                 1460.0                               1632.0   \n",
       "380                  394.0                                442.0   \n",
       "381                 1519.0                               1691.0   \n",
       "382                 1391.0                               1535.0   \n",
       "383                 1502.0                               1682.0   \n",
       "\n",
       "     Metadata_Object_Count  Image_Granularity_10_AGP  ...  \\\n",
       "0                     1536                  3.804578  ...   \n",
       "1                     1638                  3.418988  ...   \n",
       "2                     1813                  3.436863  ...   \n",
       "3                     1890                  2.995552  ...   \n",
       "4                     1924                  3.415250  ...   \n",
       "..                     ...                       ...  ...   \n",
       "379                   1460                  3.039396  ...   \n",
       "380                    394                  2.735164  ...   \n",
       "381                   1519                  2.795665  ...   \n",
       "382                   1391                  2.848995  ...   \n",
       "383                   1502                  3.340251  ...   \n",
       "\n",
       "     Nuclei_Texture_Variance_RNA_10_02_256  \\\n",
       "0                                58.128264   \n",
       "1                                69.045487   \n",
       "2                                53.962677   \n",
       "3                                56.310525   \n",
       "4                                54.162827   \n",
       "..                                     ...   \n",
       "379                              32.490915   \n",
       "380                              22.876807   \n",
       "381                              28.139448   \n",
       "382                              15.477182   \n",
       "383                              18.325082   \n",
       "\n",
       "     Nuclei_Texture_Variance_RNA_10_03_256  \\\n",
       "0                                57.891778   \n",
       "1                                68.514572   \n",
       "2                                53.468636   \n",
       "3                                55.459726   \n",
       "4                                52.949430   \n",
       "..                                     ...   \n",
       "379                              32.109682   \n",
       "380                              22.506967   \n",
       "381                              28.105485   \n",
       "382                              15.148437   \n",
       "383                              17.978140   \n",
       "\n",
       "     Nuclei_Texture_Variance_RNA_3_00_256  \\\n",
       "0                               54.025579   \n",
       "1                               63.925842   \n",
       "2                               50.307543   \n",
       "3                               52.042298   \n",
       "4                               50.126778   \n",
       "..                                    ...   \n",
       "379                             29.975073   \n",
       "380                             21.159320   \n",
       "381                             26.115582   \n",
       "382                             14.475958   \n",
       "383                             17.057508   \n",
       "\n",
       "     Nuclei_Texture_Variance_RNA_3_01_256  \\\n",
       "0                               54.296074   \n",
       "1                               64.452621   \n",
       "2                               50.564112   \n",
       "3                               52.485576   \n",
       "4                               50.390310   \n",
       "..                                    ...   \n",
       "379                             30.278136   \n",
       "380                             21.253429   \n",
       "381                             26.336469   \n",
       "382                             14.565782   \n",
       "383                             17.170341   \n",
       "\n",
       "     Nuclei_Texture_Variance_RNA_3_02_256  \\\n",
       "0                               53.784118   \n",
       "1                               63.880146   \n",
       "2                               50.349373   \n",
       "3                               52.182421   \n",
       "4                               50.137350   \n",
       "..                                    ...   \n",
       "379                             29.992891   \n",
       "380                             21.025828   \n",
       "381                             26.081936   \n",
       "382                             14.417433   \n",
       "383                             17.037623   \n",
       "\n",
       "     Nuclei_Texture_Variance_RNA_3_03_256  \\\n",
       "0                               54.264500   \n",
       "1                               64.438313   \n",
       "2                               50.804767   \n",
       "3                               52.665204   \n",
       "4                               50.705529   \n",
       "..                                    ...   \n",
       "379                             30.250245   \n",
       "380                             21.265181   \n",
       "381                             26.302242   \n",
       "382                             14.530295   \n",
       "383                             17.235763   \n",
       "\n",
       "     Nuclei_Texture_Variance_RNA_5_00_256  \\\n",
       "0                               54.751629   \n",
       "1                               64.935333   \n",
       "2                               50.927844   \n",
       "3                               52.906175   \n",
       "4                               50.950715   \n",
       "..                                    ...   \n",
       "379                             30.492269   \n",
       "380                             21.578242   \n",
       "381                             26.523964   \n",
       "382                             14.663370   \n",
       "383                             17.319608   \n",
       "\n",
       "     Nuclei_Texture_Variance_RNA_5_01_256  \\\n",
       "0                               56.083055   \n",
       "1                               66.774926   \n",
       "2                               52.173601   \n",
       "3                               54.447889   \n",
       "4                               52.211797   \n",
       "..                                    ...   \n",
       "379                             31.426101   \n",
       "380                             22.218869   \n",
       "381                             27.357752   \n",
       "382                             14.996223   \n",
       "383                             17.738058   \n",
       "\n",
       "     Nuclei_Texture_Variance_RNA_5_02_256  \\\n",
       "0                               54.495342   \n",
       "1                               64.918013   \n",
       "2                               51.018266   \n",
       "3                               53.047086   \n",
       "4                               50.987892   \n",
       "..                                    ...   \n",
       "379                             30.487478   \n",
       "380                             21.446855   \n",
       "381                             26.460637   \n",
       "382                             14.610082   \n",
       "383                             17.298756   \n",
       "\n",
       "     Nuclei_Texture_Variance_RNA_5_03_256  \n",
       "0                               56.143226  \n",
       "1                               66.695783  \n",
       "2                               52.359216  \n",
       "3                               54.514131  \n",
       "4                               52.514226  \n",
       "..                                    ...  \n",
       "379                             31.396251  \n",
       "380                             22.126793  \n",
       "381                             27.194374  \n",
       "382                             14.990295  \n",
       "383                             17.789228  \n",
       "\n",
       "[384 rows x 7657 columns]"
      ]
     },
     "execution_count": 28,
     "metadata": {},
     "output_type": "execute_result"
    }
   ],
   "source": [
    "df_well = pd.read_csv('BR00121425.csv')\n",
    "df_well"
   ]
  },
  {
   "cell_type": "code",
   "execution_count": 42,
   "id": "5d5d367f",
   "metadata": {},
   "outputs": [],
   "source": [
    "meta_well = [i for i in df_well.columns if 'Metadata' in i]\n",
    "feat_well = [i for i in df_well.columns if 'Metadata' not in i]"
   ]
  },
  {
   "cell_type": "code",
   "execution_count": 48,
   "id": "2aea8d6a",
   "metadata": {},
   "outputs": [],
   "source": [
    "df_well = df_well.loc[:, meta_well + feat_col]\n",
    "\n",
    "ctrl_wells = control_profiles.Metadata_Well.unique()\n",
    "df_well_controls = df_well[df_well['Metadata_Well'].isin(ctrl_wells)].reset_index(drop=True)"
   ]
  },
  {
   "cell_type": "code",
   "execution_count": 61,
   "id": "c0cd6ec0",
   "metadata": {
    "collapsed": true
   },
   "outputs": [
    {
     "data": {
      "application/vnd.jupyter.widget-view+json": {
       "model_id": "3629b72a23bf4f4981e2872e03515cd8",
       "version_major": 2,
       "version_minor": 0
      },
      "text/plain": [
       "  0%|          | 0/63 [00:00<?, ?it/s]"
      ]
     },
     "metadata": {},
     "output_type": "display_data"
    },
    {
     "data": {
      "application/vnd.jupyter.widget-view+json": {
       "model_id": "b1f82f0166b4468cb3636b2562be563a",
       "version_major": 2,
       "version_minor": 0
      },
      "text/plain": [
       "  0%|          | 0/62 [00:00<?, ?it/s]"
      ]
     },
     "metadata": {},
     "output_type": "display_data"
    },
    {
     "data": {
      "application/vnd.jupyter.widget-view+json": {
       "model_id": "36038f8835d0445bbe12558988228486",
       "version_major": 2,
       "version_minor": 0
      },
      "text/plain": [
       "  0%|          | 0/61 [00:00<?, ?it/s]"
      ]
     },
     "metadata": {},
     "output_type": "display_data"
    },
    {
     "data": {
      "application/vnd.jupyter.widget-view+json": {
       "model_id": "2aba1c5aa7b9424cb070670f5b5daf44",
       "version_major": 2,
       "version_minor": 0
      },
      "text/plain": [
       "  0%|          | 0/60 [00:00<?, ?it/s]"
      ]
     },
     "metadata": {},
     "output_type": "display_data"
    },
    {
     "data": {
      "application/vnd.jupyter.widget-view+json": {
       "model_id": "7deed7e4328542c1b3197a302b8c0fb9",
       "version_major": 2,
       "version_minor": 0
      },
      "text/plain": [
       "  0%|          | 0/59 [00:00<?, ?it/s]"
      ]
     },
     "metadata": {},
     "output_type": "display_data"
    },
    {
     "data": {
      "application/vnd.jupyter.widget-view+json": {
       "model_id": "a9f6486491d444b5872f3caa2bfae6c2",
       "version_major": 2,
       "version_minor": 0
      },
      "text/plain": [
       "  0%|          | 0/58 [00:00<?, ?it/s]"
      ]
     },
     "metadata": {},
     "output_type": "display_data"
    },
    {
     "data": {
      "application/vnd.jupyter.widget-view+json": {
       "model_id": "939a1e9237f44b079aff527e55a6de34",
       "version_major": 2,
       "version_minor": 0
      },
      "text/plain": [
       "  0%|          | 0/57 [00:00<?, ?it/s]"
      ]
     },
     "metadata": {},
     "output_type": "display_data"
    },
    {
     "data": {
      "application/vnd.jupyter.widget-view+json": {
       "model_id": "14dcb5887ecb4ddf9981a2fed587f29f",
       "version_major": 2,
       "version_minor": 0
      },
      "text/plain": [
       "  0%|          | 0/56 [00:00<?, ?it/s]"
      ]
     },
     "metadata": {},
     "output_type": "display_data"
    },
    {
     "data": {
      "application/vnd.jupyter.widget-view+json": {
       "model_id": "0a8d6296f2bc462b810196a7db6139a9",
       "version_major": 2,
       "version_minor": 0
      },
      "text/plain": [
       "  0%|          | 0/55 [00:00<?, ?it/s]"
      ]
     },
     "metadata": {},
     "output_type": "display_data"
    },
    {
     "data": {
      "application/vnd.jupyter.widget-view+json": {
       "model_id": "7aa6eadc4744426dad0f20358e2ae66f",
       "version_major": 2,
       "version_minor": 0
      },
      "text/plain": [
       "  0%|          | 0/54 [00:00<?, ?it/s]"
      ]
     },
     "metadata": {},
     "output_type": "display_data"
    },
    {
     "data": {
      "application/vnd.jupyter.widget-view+json": {
       "model_id": "e5de43902384468482a6dec41a90094a",
       "version_major": 2,
       "version_minor": 0
      },
      "text/plain": [
       "  0%|          | 0/53 [00:00<?, ?it/s]"
      ]
     },
     "metadata": {},
     "output_type": "display_data"
    },
    {
     "data": {
      "application/vnd.jupyter.widget-view+json": {
       "model_id": "9dcbdcfb4f3c4e65919d982c64faba93",
       "version_major": 2,
       "version_minor": 0
      },
      "text/plain": [
       "  0%|          | 0/52 [00:00<?, ?it/s]"
      ]
     },
     "metadata": {},
     "output_type": "display_data"
    },
    {
     "data": {
      "application/vnd.jupyter.widget-view+json": {
       "model_id": "1144c81b950f42c3aa2943ee9e460a84",
       "version_major": 2,
       "version_minor": 0
      },
      "text/plain": [
       "  0%|          | 0/51 [00:00<?, ?it/s]"
      ]
     },
     "metadata": {},
     "output_type": "display_data"
    },
    {
     "data": {
      "application/vnd.jupyter.widget-view+json": {
       "model_id": "58212677039c4f6e8e917fde5fc88650",
       "version_major": 2,
       "version_minor": 0
      },
      "text/plain": [
       "  0%|          | 0/50 [00:00<?, ?it/s]"
      ]
     },
     "metadata": {},
     "output_type": "display_data"
    },
    {
     "data": {
      "application/vnd.jupyter.widget-view+json": {
       "model_id": "7076714e6fae46ff87e704ed8a8860f0",
       "version_major": 2,
       "version_minor": 0
      },
      "text/plain": [
       "  0%|          | 0/49 [00:00<?, ?it/s]"
      ]
     },
     "metadata": {},
     "output_type": "display_data"
    },
    {
     "data": {
      "application/vnd.jupyter.widget-view+json": {
       "model_id": "d57ab2ef919c4676a0e79538d4d4d522",
       "version_major": 2,
       "version_minor": 0
      },
      "text/plain": [
       "  0%|          | 0/48 [00:00<?, ?it/s]"
      ]
     },
     "metadata": {},
     "output_type": "display_data"
    },
    {
     "data": {
      "application/vnd.jupyter.widget-view+json": {
       "model_id": "adf8b89bb41843d4a2e38c16a69003e0",
       "version_major": 2,
       "version_minor": 0
      },
      "text/plain": [
       "  0%|          | 0/47 [00:00<?, ?it/s]"
      ]
     },
     "metadata": {},
     "output_type": "display_data"
    },
    {
     "data": {
      "application/vnd.jupyter.widget-view+json": {
       "model_id": "51b8cf576f7e4f12ab6ac465bfa36142",
       "version_major": 2,
       "version_minor": 0
      },
      "text/plain": [
       "  0%|          | 0/46 [00:00<?, ?it/s]"
      ]
     },
     "metadata": {},
     "output_type": "display_data"
    },
    {
     "data": {
      "application/vnd.jupyter.widget-view+json": {
       "model_id": "5513b27b58db4eaba4805226dab67409",
       "version_major": 2,
       "version_minor": 0
      },
      "text/plain": [
       "  0%|          | 0/45 [00:00<?, ?it/s]"
      ]
     },
     "metadata": {},
     "output_type": "display_data"
    },
    {
     "data": {
      "application/vnd.jupyter.widget-view+json": {
       "model_id": "9db82af9855c47eba80240961f295157",
       "version_major": 2,
       "version_minor": 0
      },
      "text/plain": [
       "  0%|          | 0/44 [00:00<?, ?it/s]"
      ]
     },
     "metadata": {},
     "output_type": "display_data"
    },
    {
     "data": {
      "application/vnd.jupyter.widget-view+json": {
       "model_id": "836bc58144a0412c82fbaf6385a98062",
       "version_major": 2,
       "version_minor": 0
      },
      "text/plain": [
       "  0%|          | 0/43 [00:00<?, ?it/s]"
      ]
     },
     "metadata": {},
     "output_type": "display_data"
    },
    {
     "data": {
      "application/vnd.jupyter.widget-view+json": {
       "model_id": "c7adbf0becd14bb19b769ef38525e7a7",
       "version_major": 2,
       "version_minor": 0
      },
      "text/plain": [
       "  0%|          | 0/42 [00:00<?, ?it/s]"
      ]
     },
     "metadata": {},
     "output_type": "display_data"
    },
    {
     "data": {
      "application/vnd.jupyter.widget-view+json": {
       "model_id": "5ff142672f7a433ebeebfe8237a6fbf6",
       "version_major": 2,
       "version_minor": 0
      },
      "text/plain": [
       "  0%|          | 0/41 [00:00<?, ?it/s]"
      ]
     },
     "metadata": {},
     "output_type": "display_data"
    },
    {
     "data": {
      "application/vnd.jupyter.widget-view+json": {
       "model_id": "6ff17a2a53c04afd8aa7520cca1038bb",
       "version_major": 2,
       "version_minor": 0
      },
      "text/plain": [
       "  0%|          | 0/40 [00:00<?, ?it/s]"
      ]
     },
     "metadata": {},
     "output_type": "display_data"
    },
    {
     "data": {
      "application/vnd.jupyter.widget-view+json": {
       "model_id": "ab0fb79a4f2b47d582bc03e99ac8c015",
       "version_major": 2,
       "version_minor": 0
      },
      "text/plain": [
       "  0%|          | 0/39 [00:00<?, ?it/s]"
      ]
     },
     "metadata": {},
     "output_type": "display_data"
    },
    {
     "data": {
      "application/vnd.jupyter.widget-view+json": {
       "model_id": "dd76b7322c354469926e035c7a45a75f",
       "version_major": 2,
       "version_minor": 0
      },
      "text/plain": [
       "  0%|          | 0/38 [00:00<?, ?it/s]"
      ]
     },
     "metadata": {},
     "output_type": "display_data"
    },
    {
     "data": {
      "application/vnd.jupyter.widget-view+json": {
       "model_id": "d184a28d89c1410ab29595b1939e931d",
       "version_major": 2,
       "version_minor": 0
      },
      "text/plain": [
       "  0%|          | 0/37 [00:00<?, ?it/s]"
      ]
     },
     "metadata": {},
     "output_type": "display_data"
    },
    {
     "data": {
      "application/vnd.jupyter.widget-view+json": {
       "model_id": "5224596000b7450093299baa3726e32b",
       "version_major": 2,
       "version_minor": 0
      },
      "text/plain": [
       "  0%|          | 0/36 [00:00<?, ?it/s]"
      ]
     },
     "metadata": {},
     "output_type": "display_data"
    },
    {
     "data": {
      "application/vnd.jupyter.widget-view+json": {
       "model_id": "47880a8c4bdc4b98aa9c68c965faf328",
       "version_major": 2,
       "version_minor": 0
      },
      "text/plain": [
       "  0%|          | 0/35 [00:00<?, ?it/s]"
      ]
     },
     "metadata": {},
     "output_type": "display_data"
    },
    {
     "data": {
      "application/vnd.jupyter.widget-view+json": {
       "model_id": "cf88b9557760415483e16ee86ca234e5",
       "version_major": 2,
       "version_minor": 0
      },
      "text/plain": [
       "  0%|          | 0/34 [00:00<?, ?it/s]"
      ]
     },
     "metadata": {},
     "output_type": "display_data"
    },
    {
     "data": {
      "application/vnd.jupyter.widget-view+json": {
       "model_id": "fa97eb2eb88e477b965fa4e7b1423388",
       "version_major": 2,
       "version_minor": 0
      },
      "text/plain": [
       "  0%|          | 0/33 [00:00<?, ?it/s]"
      ]
     },
     "metadata": {},
     "output_type": "display_data"
    },
    {
     "data": {
      "application/vnd.jupyter.widget-view+json": {
       "model_id": "79cef5b4317840a6a7b906de4ec4e8fb",
       "version_major": 2,
       "version_minor": 0
      },
      "text/plain": [
       "  0%|          | 0/32 [00:00<?, ?it/s]"
      ]
     },
     "metadata": {},
     "output_type": "display_data"
    },
    {
     "data": {
      "application/vnd.jupyter.widget-view+json": {
       "model_id": "756490f706624a5192c3de2d729dfba3",
       "version_major": 2,
       "version_minor": 0
      },
      "text/plain": [
       "  0%|          | 0/31 [00:00<?, ?it/s]"
      ]
     },
     "metadata": {},
     "output_type": "display_data"
    },
    {
     "data": {
      "application/vnd.jupyter.widget-view+json": {
       "model_id": "2ee1f58e58204c40a43f3cb4af47e4da",
       "version_major": 2,
       "version_minor": 0
      },
      "text/plain": [
       "  0%|          | 0/30 [00:00<?, ?it/s]"
      ]
     },
     "metadata": {},
     "output_type": "display_data"
    },
    {
     "data": {
      "application/vnd.jupyter.widget-view+json": {
       "model_id": "d7cc34daf9c44c4cb9d68133b4da6a06",
       "version_major": 2,
       "version_minor": 0
      },
      "text/plain": [
       "  0%|          | 0/29 [00:00<?, ?it/s]"
      ]
     },
     "metadata": {},
     "output_type": "display_data"
    },
    {
     "data": {
      "application/vnd.jupyter.widget-view+json": {
       "model_id": "7fd27366900c4597a156cac151e11c97",
       "version_major": 2,
       "version_minor": 0
      },
      "text/plain": [
       "  0%|          | 0/28 [00:00<?, ?it/s]"
      ]
     },
     "metadata": {},
     "output_type": "display_data"
    },
    {
     "data": {
      "application/vnd.jupyter.widget-view+json": {
       "model_id": "905a6fc6ae0049deb3cb43e12759597d",
       "version_major": 2,
       "version_minor": 0
      },
      "text/plain": [
       "  0%|          | 0/27 [00:00<?, ?it/s]"
      ]
     },
     "metadata": {},
     "output_type": "display_data"
    },
    {
     "data": {
      "application/vnd.jupyter.widget-view+json": {
       "model_id": "a7c654bb72b64eabbc5ce35295522669",
       "version_major": 2,
       "version_minor": 0
      },
      "text/plain": [
       "  0%|          | 0/26 [00:00<?, ?it/s]"
      ]
     },
     "metadata": {},
     "output_type": "display_data"
    },
    {
     "data": {
      "application/vnd.jupyter.widget-view+json": {
       "model_id": "f02674ec5af447ed98583c9ff9933bca",
       "version_major": 2,
       "version_minor": 0
      },
      "text/plain": [
       "  0%|          | 0/25 [00:00<?, ?it/s]"
      ]
     },
     "metadata": {},
     "output_type": "display_data"
    },
    {
     "data": {
      "application/vnd.jupyter.widget-view+json": {
       "model_id": "50f06d68f7214b92af4a79c9700721d7",
       "version_major": 2,
       "version_minor": 0
      },
      "text/plain": [
       "  0%|          | 0/24 [00:00<?, ?it/s]"
      ]
     },
     "metadata": {},
     "output_type": "display_data"
    },
    {
     "data": {
      "application/vnd.jupyter.widget-view+json": {
       "model_id": "9b1e8cc539864f868626df4cbfc2bfb8",
       "version_major": 2,
       "version_minor": 0
      },
      "text/plain": [
       "  0%|          | 0/23 [00:00<?, ?it/s]"
      ]
     },
     "metadata": {},
     "output_type": "display_data"
    },
    {
     "data": {
      "application/vnd.jupyter.widget-view+json": {
       "model_id": "af64ef3adf584c4a92d1ea93a27a733c",
       "version_major": 2,
       "version_minor": 0
      },
      "text/plain": [
       "  0%|          | 0/22 [00:00<?, ?it/s]"
      ]
     },
     "metadata": {},
     "output_type": "display_data"
    },
    {
     "data": {
      "application/vnd.jupyter.widget-view+json": {
       "model_id": "445aafa8dabe42989648e0dd77fe851a",
       "version_major": 2,
       "version_minor": 0
      },
      "text/plain": [
       "  0%|          | 0/21 [00:00<?, ?it/s]"
      ]
     },
     "metadata": {},
     "output_type": "display_data"
    },
    {
     "data": {
      "application/vnd.jupyter.widget-view+json": {
       "model_id": "fae5e8c4a52a4fe0abdd5af335d1bb5e",
       "version_major": 2,
       "version_minor": 0
      },
      "text/plain": [
       "  0%|          | 0/20 [00:00<?, ?it/s]"
      ]
     },
     "metadata": {},
     "output_type": "display_data"
    },
    {
     "data": {
      "application/vnd.jupyter.widget-view+json": {
       "model_id": "78a0c1b4972840c09f0923e063c470b4",
       "version_major": 2,
       "version_minor": 0
      },
      "text/plain": [
       "  0%|          | 0/19 [00:00<?, ?it/s]"
      ]
     },
     "metadata": {},
     "output_type": "display_data"
    },
    {
     "data": {
      "application/vnd.jupyter.widget-view+json": {
       "model_id": "c6226c132ad4474990df92cdb59a29d3",
       "version_major": 2,
       "version_minor": 0
      },
      "text/plain": [
       "  0%|          | 0/18 [00:00<?, ?it/s]"
      ]
     },
     "metadata": {},
     "output_type": "display_data"
    },
    {
     "data": {
      "application/vnd.jupyter.widget-view+json": {
       "model_id": "e29c88ed27954d06975f29e0cfba5331",
       "version_major": 2,
       "version_minor": 0
      },
      "text/plain": [
       "  0%|          | 0/17 [00:00<?, ?it/s]"
      ]
     },
     "metadata": {},
     "output_type": "display_data"
    },
    {
     "data": {
      "application/vnd.jupyter.widget-view+json": {
       "model_id": "14eedd80a30845749673852a79fc3cf6",
       "version_major": 2,
       "version_minor": 0
      },
      "text/plain": [
       "  0%|          | 0/16 [00:00<?, ?it/s]"
      ]
     },
     "metadata": {},
     "output_type": "display_data"
    },
    {
     "data": {
      "application/vnd.jupyter.widget-view+json": {
       "model_id": "b503ff441ea34a5bb236e172b2796b0f",
       "version_major": 2,
       "version_minor": 0
      },
      "text/plain": [
       "  0%|          | 0/15 [00:00<?, ?it/s]"
      ]
     },
     "metadata": {},
     "output_type": "display_data"
    },
    {
     "data": {
      "application/vnd.jupyter.widget-view+json": {
       "model_id": "f1037de6fb2f4a0f83a0bbb54deebca0",
       "version_major": 2,
       "version_minor": 0
      },
      "text/plain": [
       "  0%|          | 0/14 [00:00<?, ?it/s]"
      ]
     },
     "metadata": {},
     "output_type": "display_data"
    },
    {
     "data": {
      "application/vnd.jupyter.widget-view+json": {
       "model_id": "685235ccee9c481cbba4c4015d31d8cf",
       "version_major": 2,
       "version_minor": 0
      },
      "text/plain": [
       "  0%|          | 0/13 [00:00<?, ?it/s]"
      ]
     },
     "metadata": {},
     "output_type": "display_data"
    },
    {
     "data": {
      "application/vnd.jupyter.widget-view+json": {
       "model_id": "fabcce97bdee4e57bb1f560e2cefb63c",
       "version_major": 2,
       "version_minor": 0
      },
      "text/plain": [
       "  0%|          | 0/12 [00:00<?, ?it/s]"
      ]
     },
     "metadata": {},
     "output_type": "display_data"
    },
    {
     "data": {
      "application/vnd.jupyter.widget-view+json": {
       "model_id": "0efe6c5dfae448b0a0d6e77c6f2b16ed",
       "version_major": 2,
       "version_minor": 0
      },
      "text/plain": [
       "  0%|          | 0/11 [00:00<?, ?it/s]"
      ]
     },
     "metadata": {},
     "output_type": "display_data"
    },
    {
     "data": {
      "application/vnd.jupyter.widget-view+json": {
       "model_id": "3cf25a812f664fc8bf9a789b3d6a84a7",
       "version_major": 2,
       "version_minor": 0
      },
      "text/plain": [
       "  0%|          | 0/10 [00:00<?, ?it/s]"
      ]
     },
     "metadata": {},
     "output_type": "display_data"
    },
    {
     "data": {
      "application/vnd.jupyter.widget-view+json": {
       "model_id": "6b38004410f841caa2e8eb5d6ed63639",
       "version_major": 2,
       "version_minor": 0
      },
      "text/plain": [
       "  0%|          | 0/9 [00:00<?, ?it/s]"
      ]
     },
     "metadata": {},
     "output_type": "display_data"
    },
    {
     "data": {
      "application/vnd.jupyter.widget-view+json": {
       "model_id": "402dc746d019460f9246a41a8ca4e17f",
       "version_major": 2,
       "version_minor": 0
      },
      "text/plain": [
       "  0%|          | 0/8 [00:00<?, ?it/s]"
      ]
     },
     "metadata": {},
     "output_type": "display_data"
    },
    {
     "data": {
      "application/vnd.jupyter.widget-view+json": {
       "model_id": "f21aa5d773d048319e241e301859f3dc",
       "version_major": 2,
       "version_minor": 0
      },
      "text/plain": [
       "  0%|          | 0/7 [00:00<?, ?it/s]"
      ]
     },
     "metadata": {},
     "output_type": "display_data"
    },
    {
     "data": {
      "application/vnd.jupyter.widget-view+json": {
       "model_id": "27241b3227924fec8da6c857f5f20c26",
       "version_major": 2,
       "version_minor": 0
      },
      "text/plain": [
       "  0%|          | 0/6 [00:00<?, ?it/s]"
      ]
     },
     "metadata": {},
     "output_type": "display_data"
    },
    {
     "data": {
      "application/vnd.jupyter.widget-view+json": {
       "model_id": "dc24ffafc7a84e7c96f4247c79552372",
       "version_major": 2,
       "version_minor": 0
      },
      "text/plain": [
       "  0%|          | 0/5 [00:00<?, ?it/s]"
      ]
     },
     "metadata": {},
     "output_type": "display_data"
    },
    {
     "data": {
      "application/vnd.jupyter.widget-view+json": {
       "model_id": "2ee581648bfe46bf95594a23d2376115",
       "version_major": 2,
       "version_minor": 0
      },
      "text/plain": [
       "  0%|          | 0/4 [00:00<?, ?it/s]"
      ]
     },
     "metadata": {},
     "output_type": "display_data"
    },
    {
     "data": {
      "application/vnd.jupyter.widget-view+json": {
       "model_id": "8b98d08f236348beb8944a558aeabe0c",
       "version_major": 2,
       "version_minor": 0
      },
      "text/plain": [
       "  0%|          | 0/3 [00:00<?, ?it/s]"
      ]
     },
     "metadata": {},
     "output_type": "display_data"
    },
    {
     "data": {
      "application/vnd.jupyter.widget-view+json": {
       "model_id": "0c08bfbf714a49459bd122c35b8feaaa",
       "version_major": 2,
       "version_minor": 0
      },
      "text/plain": [
       "  0%|          | 0/2 [00:00<?, ?it/s]"
      ]
     },
     "metadata": {},
     "output_type": "display_data"
    },
    {
     "data": {
      "application/vnd.jupyter.widget-view+json": {
       "model_id": "2d1ceb41889a466f97f6fdfd7fa96953",
       "version_major": 2,
       "version_minor": 0
      },
      "text/plain": [
       "  0%|          | 0/1 [00:00<?, ?it/s]"
      ]
     },
     "metadata": {},
     "output_type": "display_data"
    }
   ],
   "source": [
    "cos_sim_list = []\n",
    "gene_list = []\n",
    "pair_list = []\n",
    "for i in tqdm(range(len(well_list) - 1)):\n",
    "    well_one = well_list[i]\n",
    "    df_well_one = df_well_controls[df_well_controls['Metadata_Well']==well_one][feat_col].values.squeeze()\n",
    "    for j in range(i + 1, len(well_list)):\n",
    "        well_two = well_list[j]\n",
    "        df_well_two = df_well_controls[df_well_controls['Metadata_Well']==well_two][feat_col].values.squeeze()\n",
    "        \n",
    "        cos_sim = scipy.spatial.distance.cosine(df_well_one, df_well_two)\n",
    "        \n",
    "        cos_sim_list.append(cos_sim)\n",
    "        gene_list.append(well_one)\n",
    "        pair_list.append(well_two)"
   ]
  },
  {
   "cell_type": "code",
   "execution_count": 67,
   "id": "67200afc",
   "metadata": {},
   "outputs": [],
   "source": [
    "cluster_csv = pd.DataFrame(\n",
    "    {\n",
    "        \"Well_One\": gene_list,\n",
    "        \"Well_Two\": pair_list,\n",
    "        \"Cosine\": cos_sim_list\n",
    "    }\n",
    ")"
   ]
  },
  {
   "cell_type": "code",
   "execution_count": null,
   "id": "a18b1790",
   "metadata": {},
   "outputs": [],
   "source": [
    "def plot_feature_correlations(Xinput):\n",
    "  sns.clustermap(\n",
    "      np.corrcoef(Xinput.transpose()),\n",
    "      metric=\"cosine\",\n",
    "      vmin=-1,\n",
    "      vmax=1,\n",
    "      cmap=sns.diverging_palette(20, 220, n=200)\n",
    "      ).fig.suptitle(f\"\")"
   ]
  },
  {
   "cell_type": "code",
   "execution_count": 125,
   "id": "ddd38484",
   "metadata": {},
   "outputs": [
    {
     "data": {
      "text/plain": [
       "64"
      ]
     },
     "execution_count": 125,
     "metadata": {},
     "output_type": "execute_result"
    }
   ],
   "source": [
    "len(well_list)"
   ]
  },
  {
   "cell_type": "markdown",
   "id": "39ab1ab1",
   "metadata": {},
   "source": [
    "### Visualization"
   ]
  },
  {
   "cell_type": "code",
   "execution_count": 3,
   "id": "e5857776",
   "metadata": {},
   "outputs": [],
   "source": [
    "import seaborn as sb\n",
    "import matplotlib.pyplot as plt"
   ]
  },
  {
   "cell_type": "code",
   "execution_count": 7,
   "id": "0d9d4b3f",
   "metadata": {},
   "outputs": [],
   "source": [
    "control_csv = pd.read_csv(f\"{data_dir}control_prediction{feature_type}.csv\")"
   ]
  },
  {
   "cell_type": "code",
   "execution_count": 129,
   "id": "7af3bc96",
   "metadata": {},
   "outputs": [],
   "source": [
    "result_csv = pd.read_csv(f\"{data_dir}protein_variant_prediction_annotated_normalized_feature_selected.csv\")"
   ]
  },
  {
   "cell_type": "code",
   "execution_count": 166,
   "id": "b1f87154",
   "metadata": {},
   "outputs": [],
   "source": [
    "control_csv[\"Type\"] = \"Control\"\n",
    "result_csv['Type'] = 'Compound'\n",
    "all_csv = pd.concat([control_csv, result_csv], ignore_index=True)"
   ]
  },
  {
   "cell_type": "code",
   "execution_count": 179,
   "id": "1c0f52f8",
   "metadata": {},
   "outputs": [],
   "source": [
    "thresh = np.percentile(control_csv[\"F1_Score\"], 95)\n",
    "num_pass = np.where(result_csv['F1_Score']> thresh)[0].size"
   ]
  },
  {
   "cell_type": "code",
   "execution_count": 180,
   "id": "46c32f5e",
   "metadata": {},
   "outputs": [
    {
     "name": "stdout",
     "output_type": "stream",
     "text": [
      "95% threshold for controls: 0.9658994032395568\n",
      "Number of compound pairs pass threshold: 1087\n"
     ]
    }
   ],
   "source": [
    "print(f'95% threshold for controls: {thresh}')\n",
    "print(f'Number of compound pairs pass threshold: {num_pass}')"
   ]
  },
  {
   "cell_type": "code",
   "execution_count": 169,
   "id": "e53b5bcb",
   "metadata": {},
   "outputs": [
    {
     "data": {
      "image/png": "[encoded data removed]",
      "text/plain": [
       "<Figure size 500x500 with 1 Axes>"
      ]
     },
     "metadata": {},
     "output_type": "display_data"
    }
   ],
   "source": [
    "plt.figure()\n",
    "sb.histplot(data=all_csv, x=\"F1_Score\", hue=\"Type\", bins=100, stat='percent')\n",
    "plt.title(\"F1 Score of Compound classification vs DMSO well classification\")\n",
    "plt.show()"
   ]
  },
  {
   "cell_type": "code",
   "execution_count": 124,
   "id": "55982ab0",
   "metadata": {},
   "outputs": [
    {
     "data": {
      "image/png": "[encoded data removed]",
      "text/plain": [
       "<Figure size 640x480 with 1 Axes>"
      ]
     },
     "metadata": {},
     "output_type": "display_data"
    }
   ],
   "source": [
    "sb.boxplot(data=control_csv, x=\"F1_Score\")\n",
    "plt.title(\"Control Classification\")\n",
    "plt.show()"
   ]
  },
  {
   "cell_type": "code",
   "execution_count": 9,
   "id": "cd5ddc54",
   "metadata": {},
   "outputs": [],
   "source": [
    "# Pivot and rescale for visualization\n",
    "X = control_csv.pivot(\n",
    "    index=\"Treatment\", columns=\"Well_Pair\", values=\"F1_Score\"\n",
    ")"
   ]
  },
  {
   "cell_type": "code",
   "execution_count": 26,
   "id": "05297b66",
   "metadata": {},
   "outputs": [
    {
     "data": {
      "image/png": "[encoded data removed]",
      "text/plain": [
       "<Figure size 1500x1500 with 2 Axes>"
      ]
     },
     "metadata": {},
     "output_type": "display_data"
    }
   ],
   "source": [
    "sb.set(rc={\"figure.figsize\": (15, 15)})\n",
    "colmap = sb.diverging_palette(240, 15, s=100, l=30, as_cmap=True)\n",
    "\n",
    "ax = sb.heatmap(\n",
    "    X,\n",
    "    cmap=colmap,\n",
    "    square=True,\n",
    "    xticklabels=True,\n",
    "    yticklabels=True,\n",
    "    cbar_kws={\"shrink\": 0.30},\n",
    ")\n",
    "plt.tick_params(\n",
    "    axis=\"both\",\n",
    "    which=\"major\",\n",
    "    rotation=90,\n",
    "    labelsize=8,\n",
    "    labelbottom=False,\n",
    "    bottom=False,\n",
    "    top=False,\n",
    "    labeltop=True,\n",
    "    right=False,\n",
    "    labelright=True,\n",
    "    left=False,\n",
    "    labelleft=False,\n",
    ")\n",
    "plt.yticks(rotation=0)\n",
    "# ax.set_aspect(\"equal\")\n",
    "plt.show()"
   ]
  },
  {
   "cell_type": "code",
   "execution_count": 80,
   "id": "a2d5b184",
   "metadata": {},
   "outputs": [],
   "source": [
    "cluster_csv['1-COS'] = cluster_csv['Cosine'].apply(lambda x: 1-x)"
   ]
  },
  {
   "cell_type": "code",
   "execution_count": 122,
   "id": "124bda93",
   "metadata": {},
   "outputs": [],
   "source": [
    "# Pivot and rescale for visualization\n",
    "Y = cluster_csv.pivot_table(\n",
    "    index=\"Well_One\", columns=\"Well_Two\", values=\"Cosine\"\n",
    ")"
   ]
  },
  {
   "cell_type": "code",
   "execution_count": 118,
   "id": "a4f257fa",
   "metadata": {},
   "outputs": [],
   "source": [
    "for well in Y.columns[:-1]:\n",
    "    Y.loc[well, well]= 1"
   ]
  },
  {
   "cell_type": "code",
   "execution_count": 123,
   "id": "37bbac93",
   "metadata": {},
   "outputs": [
    {
     "data": {
      "image/png": "[encoded data removed]",
      "text/plain": [
       "<Figure size 1500x1500 with 2 Axes>"
      ]
     },
     "metadata": {},
     "output_type": "display_data"
    }
   ],
   "source": [
    "plt.figure()\n",
    "sb.set(rc={\"figure.figsize\": (15, 15)})\n",
    "colmap = sb.diverging_palette(240, 15, s=100, l=30, as_cmap=True)\n",
    "\n",
    "ax = sb.heatmap(\n",
    "    Y,\n",
    "    cmap=colmap,\n",
    "    square=True,\n",
    "    xticklabels=True,\n",
    "    yticklabels=True,\n",
    "    cbar_kws={\"shrink\": 0.30},\n",
    ")\n",
    "plt.tick_params(\n",
    "    axis=\"both\",\n",
    "    which=\"major\",\n",
    "    rotation=90,\n",
    "    labelsize=8,\n",
    "    labelbottom=False,\n",
    "    bottom=False,\n",
    "    top=False,\n",
    "    labeltop=True,\n",
    "    right=False,\n",
    "    labelright=True,\n",
    "    left=False,\n",
    "    labelleft=False,\n",
    ")\n",
    "plt.yticks(rotation=0)\n",
    "# ax.set_aspect(\"equal\")\n",
    "plt.show()"
   ]
  },
  {
   "cell_type": "code",
   "execution_count": 103,
   "id": "40cf21d5",
   "metadata": {},
   "outputs": [
    {
     "data": {
      "text/html": [
       "<div>\n",
       "<style scoped>\n",
       "    .dataframe tbody tr th:only-of-type {\n",
       "        vertical-align: middle;\n",
       "    }\n",
       "\n",
       "    .dataframe tbody tr th {\n",
       "        vertical-align: top;\n",
       "    }\n",
       "\n",
       "    .dataframe thead th {\n",
       "        text-align: right;\n",
       "    }\n",
       "</style>\n",
       "<table border=\"1\" class=\"dataframe\">\n",
       "  <thead>\n",
       "    <tr style=\"text-align: right;\">\n",
       "      <th>Well_Two</th>\n",
       "      <th>A20</th>\n",
       "      <th>B12</th>\n",
       "      <th>B13</th>\n",
       "      <th>C09</th>\n",
       "      <th>C16</th>\n",
       "      <th>C17</th>\n",
       "      <th>D03</th>\n",
       "      <th>D06</th>\n",
       "      <th>D09</th>\n",
       "      <th>D17</th>\n",
       "      <th>...</th>\n",
       "      <th>M21</th>\n",
       "      <th>N01</th>\n",
       "      <th>N06</th>\n",
       "      <th>N07</th>\n",
       "      <th>N19</th>\n",
       "      <th>N20</th>\n",
       "      <th>O11</th>\n",
       "      <th>O12</th>\n",
       "      <th>P11</th>\n",
       "      <th>P24</th>\n",
       "    </tr>\n",
       "    <tr>\n",
       "      <th>Well_One</th>\n",
       "      <th></th>\n",
       "      <th></th>\n",
       "      <th></th>\n",
       "      <th></th>\n",
       "      <th></th>\n",
       "      <th></th>\n",
       "      <th></th>\n",
       "      <th></th>\n",
       "      <th></th>\n",
       "      <th></th>\n",
       "      <th></th>\n",
       "      <th></th>\n",
       "      <th></th>\n",
       "      <th></th>\n",
       "      <th></th>\n",
       "      <th></th>\n",
       "      <th></th>\n",
       "      <th></th>\n",
       "      <th></th>\n",
       "      <th></th>\n",
       "      <th></th>\n",
       "    </tr>\n",
       "  </thead>\n",
       "  <tbody>\n",
       "    <tr>\n",
       "      <th>A05</th>\n",
       "      <td>0.990397</td>\n",
       "      <td>0.996731</td>\n",
       "      <td>0.998628</td>\n",
       "      <td>0.856164</td>\n",
       "      <td>0.993045</td>\n",
       "      <td>0.997037</td>\n",
       "      <td>0.997302</td>\n",
       "      <td>0.995525</td>\n",
       "      <td>0.869160</td>\n",
       "      <td>0.997604</td>\n",
       "      <td>...</td>\n",
       "      <td>0.992644</td>\n",
       "      <td>0.997037</td>\n",
       "      <td>0.994565</td>\n",
       "      <td>0.998102</td>\n",
       "      <td>0.994938</td>\n",
       "      <td>0.992745</td>\n",
       "      <td>0.995887</td>\n",
       "      <td>0.996603</td>\n",
       "      <td>0.994977</td>\n",
       "      <td>0.976100</td>\n",
       "    </tr>\n",
       "    <tr>\n",
       "      <th>A20</th>\n",
       "      <td>1.000000</td>\n",
       "      <td>0.993395</td>\n",
       "      <td>0.991505</td>\n",
       "      <td>0.808733</td>\n",
       "      <td>0.995444</td>\n",
       "      <td>0.994109</td>\n",
       "      <td>0.985321</td>\n",
       "      <td>0.989378</td>\n",
       "      <td>0.825909</td>\n",
       "      <td>0.991796</td>\n",
       "      <td>...</td>\n",
       "      <td>0.996314</td>\n",
       "      <td>0.989426</td>\n",
       "      <td>0.990474</td>\n",
       "      <td>0.989521</td>\n",
       "      <td>0.993945</td>\n",
       "      <td>0.994022</td>\n",
       "      <td>0.995391</td>\n",
       "      <td>0.994632</td>\n",
       "      <td>0.996403</td>\n",
       "      <td>0.994551</td>\n",
       "    </tr>\n",
       "    <tr>\n",
       "      <th>B12</th>\n",
       "      <td>0.000000</td>\n",
       "      <td>1.000000</td>\n",
       "      <td>0.997166</td>\n",
       "      <td>0.841413</td>\n",
       "      <td>0.995775</td>\n",
       "      <td>0.995468</td>\n",
       "      <td>0.992832</td>\n",
       "      <td>0.998855</td>\n",
       "      <td>0.853864</td>\n",
       "      <td>0.995153</td>\n",
       "      <td>...</td>\n",
       "      <td>0.995436</td>\n",
       "      <td>0.997880</td>\n",
       "      <td>0.998636</td>\n",
       "      <td>0.998417</td>\n",
       "      <td>0.995954</td>\n",
       "      <td>0.996094</td>\n",
       "      <td>0.998595</td>\n",
       "      <td>0.999269</td>\n",
       "      <td>0.997209</td>\n",
       "      <td>0.981031</td>\n",
       "    </tr>\n",
       "    <tr>\n",
       "      <th>B13</th>\n",
       "      <td>0.000000</td>\n",
       "      <td>0.000000</td>\n",
       "      <td>1.000000</td>\n",
       "      <td>0.854674</td>\n",
       "      <td>0.995544</td>\n",
       "      <td>0.997973</td>\n",
       "      <td>0.998181</td>\n",
       "      <td>0.996413</td>\n",
       "      <td>0.870541</td>\n",
       "      <td>0.998759</td>\n",
       "      <td>...</td>\n",
       "      <td>0.994622</td>\n",
       "      <td>0.996980</td>\n",
       "      <td>0.995145</td>\n",
       "      <td>0.998025</td>\n",
       "      <td>0.996373</td>\n",
       "      <td>0.994494</td>\n",
       "      <td>0.996839</td>\n",
       "      <td>0.997603</td>\n",
       "      <td>0.996525</td>\n",
       "      <td>0.978655</td>\n",
       "    </tr>\n",
       "    <tr>\n",
       "      <th>C09</th>\n",
       "      <td>0.000000</td>\n",
       "      <td>0.000000</td>\n",
       "      <td>0.000000</td>\n",
       "      <td>1.000000</td>\n",
       "      <td>0.833201</td>\n",
       "      <td>0.857784</td>\n",
       "      <td>0.874387</td>\n",
       "      <td>0.856691</td>\n",
       "      <td>0.992105</td>\n",
       "      <td>0.863821</td>\n",
       "      <td>...</td>\n",
       "      <td>0.844846</td>\n",
       "      <td>0.853433</td>\n",
       "      <td>0.848531</td>\n",
       "      <td>0.859020</td>\n",
       "      <td>0.853226</td>\n",
       "      <td>0.848746</td>\n",
       "      <td>0.843250</td>\n",
       "      <td>0.836652</td>\n",
       "      <td>0.830268</td>\n",
       "      <td>0.773522</td>\n",
       "    </tr>\n",
       "    <tr>\n",
       "      <th>...</th>\n",
       "      <td>...</td>\n",
       "      <td>...</td>\n",
       "      <td>...</td>\n",
       "      <td>...</td>\n",
       "      <td>...</td>\n",
       "      <td>...</td>\n",
       "      <td>...</td>\n",
       "      <td>...</td>\n",
       "      <td>...</td>\n",
       "      <td>...</td>\n",
       "      <td>...</td>\n",
       "      <td>...</td>\n",
       "      <td>...</td>\n",
       "      <td>...</td>\n",
       "      <td>...</td>\n",
       "      <td>...</td>\n",
       "      <td>...</td>\n",
       "      <td>...</td>\n",
       "      <td>...</td>\n",
       "      <td>...</td>\n",
       "      <td>...</td>\n",
       "    </tr>\n",
       "    <tr>\n",
       "      <th>N20</th>\n",
       "      <td>0.000000</td>\n",
       "      <td>0.000000</td>\n",
       "      <td>0.000000</td>\n",
       "      <td>0.000000</td>\n",
       "      <td>0.000000</td>\n",
       "      <td>0.000000</td>\n",
       "      <td>0.000000</td>\n",
       "      <td>0.000000</td>\n",
       "      <td>0.000000</td>\n",
       "      <td>0.000000</td>\n",
       "      <td>...</td>\n",
       "      <td>0.000000</td>\n",
       "      <td>0.000000</td>\n",
       "      <td>0.000000</td>\n",
       "      <td>0.000000</td>\n",
       "      <td>0.000000</td>\n",
       "      <td>1.000000</td>\n",
       "      <td>0.996406</td>\n",
       "      <td>0.995665</td>\n",
       "      <td>0.994420</td>\n",
       "      <td>0.981955</td>\n",
       "    </tr>\n",
       "    <tr>\n",
       "      <th>O11</th>\n",
       "      <td>0.000000</td>\n",
       "      <td>0.000000</td>\n",
       "      <td>0.000000</td>\n",
       "      <td>0.000000</td>\n",
       "      <td>0.000000</td>\n",
       "      <td>0.000000</td>\n",
       "      <td>0.000000</td>\n",
       "      <td>0.000000</td>\n",
       "      <td>0.000000</td>\n",
       "      <td>0.000000</td>\n",
       "      <td>...</td>\n",
       "      <td>0.000000</td>\n",
       "      <td>0.000000</td>\n",
       "      <td>0.000000</td>\n",
       "      <td>0.000000</td>\n",
       "      <td>0.000000</td>\n",
       "      <td>0.000000</td>\n",
       "      <td>1.000000</td>\n",
       "      <td>0.999328</td>\n",
       "      <td>0.999081</td>\n",
       "      <td>0.987112</td>\n",
       "    </tr>\n",
       "    <tr>\n",
       "      <th>O12</th>\n",
       "      <td>0.000000</td>\n",
       "      <td>0.000000</td>\n",
       "      <td>0.000000</td>\n",
       "      <td>0.000000</td>\n",
       "      <td>0.000000</td>\n",
       "      <td>0.000000</td>\n",
       "      <td>0.000000</td>\n",
       "      <td>0.000000</td>\n",
       "      <td>0.000000</td>\n",
       "      <td>0.000000</td>\n",
       "      <td>...</td>\n",
       "      <td>0.000000</td>\n",
       "      <td>0.000000</td>\n",
       "      <td>0.000000</td>\n",
       "      <td>0.000000</td>\n",
       "      <td>0.000000</td>\n",
       "      <td>0.000000</td>\n",
       "      <td>0.000000</td>\n",
       "      <td>1.000000</td>\n",
       "      <td>0.998702</td>\n",
       "      <td>0.985046</td>\n",
       "    </tr>\n",
       "    <tr>\n",
       "      <th>P11</th>\n",
       "      <td>0.000000</td>\n",
       "      <td>0.000000</td>\n",
       "      <td>0.000000</td>\n",
       "      <td>0.000000</td>\n",
       "      <td>0.000000</td>\n",
       "      <td>0.000000</td>\n",
       "      <td>0.000000</td>\n",
       "      <td>0.000000</td>\n",
       "      <td>0.000000</td>\n",
       "      <td>0.000000</td>\n",
       "      <td>...</td>\n",
       "      <td>0.000000</td>\n",
       "      <td>0.000000</td>\n",
       "      <td>0.000000</td>\n",
       "      <td>0.000000</td>\n",
       "      <td>0.000000</td>\n",
       "      <td>0.000000</td>\n",
       "      <td>0.000000</td>\n",
       "      <td>0.000000</td>\n",
       "      <td>1.000000</td>\n",
       "      <td>0.990563</td>\n",
       "    </tr>\n",
       "    <tr>\n",
       "      <th>P24</th>\n",
       "      <td>NaN</td>\n",
       "      <td>NaN</td>\n",
       "      <td>NaN</td>\n",
       "      <td>NaN</td>\n",
       "      <td>NaN</td>\n",
       "      <td>NaN</td>\n",
       "      <td>NaN</td>\n",
       "      <td>NaN</td>\n",
       "      <td>NaN</td>\n",
       "      <td>NaN</td>\n",
       "      <td>...</td>\n",
       "      <td>NaN</td>\n",
       "      <td>NaN</td>\n",
       "      <td>NaN</td>\n",
       "      <td>NaN</td>\n",
       "      <td>NaN</td>\n",
       "      <td>NaN</td>\n",
       "      <td>NaN</td>\n",
       "      <td>NaN</td>\n",
       "      <td>NaN</td>\n",
       "      <td>1.000000</td>\n",
       "    </tr>\n",
       "  </tbody>\n",
       "</table>\n",
       "<p>64 rows × 63 columns</p>\n",
       "</div>"
      ],
      "text/plain": [
       "Well_Two       A20       B12       B13       C09       C16       C17  \\\n",
       "Well_One                                                               \n",
       "A05       0.990397  0.996731  0.998628  0.856164  0.993045  0.997037   \n",
       "A20       1.000000  0.993395  0.991505  0.808733  0.995444  0.994109   \n",
       "B12       0.000000  1.000000  0.997166  0.841413  0.995775  0.995468   \n",
       "B13       0.000000  0.000000  1.000000  0.854674  0.995544  0.997973   \n",
       "C09       0.000000  0.000000  0.000000  1.000000  0.833201  0.857784   \n",
       "...            ...       ...       ...       ...       ...       ...   \n",
       "N20       0.000000  0.000000  0.000000  0.000000  0.000000  0.000000   \n",
       "O11       0.000000  0.000000  0.000000  0.000000  0.000000  0.000000   \n",
       "O12       0.000000  0.000000  0.000000  0.000000  0.000000  0.000000   \n",
       "P11       0.000000  0.000000  0.000000  0.000000  0.000000  0.000000   \n",
       "P24            NaN       NaN       NaN       NaN       NaN       NaN   \n",
       "\n",
       "Well_Two       D03       D06       D09       D17  ...       M21       N01  \\\n",
       "Well_One                                          ...                       \n",
       "A05       0.997302  0.995525  0.869160  0.997604  ...  0.992644  0.997037   \n",
       "A20       0.985321  0.989378  0.825909  0.991796  ...  0.996314  0.989426   \n",
       "B12       0.992832  0.998855  0.853864  0.995153  ...  0.995436  0.997880   \n",
       "B13       0.998181  0.996413  0.870541  0.998759  ...  0.994622  0.996980   \n",
       "C09       0.874387  0.856691  0.992105  0.863821  ...  0.844846  0.853433   \n",
       "...            ...       ...       ...       ...  ...       ...       ...   \n",
       "N20       0.000000  0.000000  0.000000  0.000000  ...  0.000000  0.000000   \n",
       "O11       0.000000  0.000000  0.000000  0.000000  ...  0.000000  0.000000   \n",
       "O12       0.000000  0.000000  0.000000  0.000000  ...  0.000000  0.000000   \n",
       "P11       0.000000  0.000000  0.000000  0.000000  ...  0.000000  0.000000   \n",
       "P24            NaN       NaN       NaN       NaN  ...       NaN       NaN   \n",
       "\n",
       "Well_Two       N06       N07       N19       N20       O11       O12  \\\n",
       "Well_One                                                               \n",
       "A05       0.994565  0.998102  0.994938  0.992745  0.995887  0.996603   \n",
       "A20       0.990474  0.989521  0.993945  0.994022  0.995391  0.994632   \n",
       "B12       0.998636  0.998417  0.995954  0.996094  0.998595  0.999269   \n",
       "B13       0.995145  0.998025  0.996373  0.994494  0.996839  0.997603   \n",
       "C09       0.848531  0.859020  0.853226  0.848746  0.843250  0.836652   \n",
       "...            ...       ...       ...       ...       ...       ...   \n",
       "N20       0.000000  0.000000  0.000000  1.000000  0.996406  0.995665   \n",
       "O11       0.000000  0.000000  0.000000  0.000000  1.000000  0.999328   \n",
       "O12       0.000000  0.000000  0.000000  0.000000  0.000000  1.000000   \n",
       "P11       0.000000  0.000000  0.000000  0.000000  0.000000  0.000000   \n",
       "P24            NaN       NaN       NaN       NaN       NaN       NaN   \n",
       "\n",
       "Well_Two       P11       P24  \n",
       "Well_One                      \n",
       "A05       0.994977  0.976100  \n",
       "A20       0.996403  0.994551  \n",
       "B12       0.997209  0.981031  \n",
       "B13       0.996525  0.978655  \n",
       "C09       0.830268  0.773522  \n",
       "...            ...       ...  \n",
       "N20       0.994420  0.981955  \n",
       "O11       0.999081  0.987112  \n",
       "O12       0.998702  0.985046  \n",
       "P11       1.000000  0.990563  \n",
       "P24            NaN  1.000000  \n",
       "\n",
       "[64 rows x 63 columns]"
      ]
     },
     "execution_count": 103,
     "metadata": {},
     "output_type": "execute_result"
    }
   ],
   "source": [
    "Y"
   ]
  },
  {
   "cell_type": "code",
   "execution_count": null,
   "id": "8903258c",
   "metadata": {},
   "outputs": [],
   "source": []
  }
 ],
 "metadata": {
  "kernelspec": {
   "display_name": "Python 3",
   "language": "python",
   "name": "python3"
  },
  "language_info": {
   "codemirror_mode": {
    "name": "ipython",
    "version": 3
   },
   "file_extension": ".py",
   "mimetype": "text/x-python",
   "name": "python",
   "nbconvert_exporter": "python",
   "pygments_lexer": "ipython3",
   "version": "3.8.17"
  }
 },
 "nbformat": 4,
 "nbformat_minor": 5
}
