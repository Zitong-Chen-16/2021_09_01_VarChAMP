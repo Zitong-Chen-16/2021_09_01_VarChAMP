{
 "cells": [
  {
   "cell_type": "code",
   "execution_count": 2,
   "id": "57a49b2d-33b3-4bae-8b90-6432155c8070",
   "metadata": {},
   "outputs": [],
   "source": [
    "import pathlib\n",
    "\n",
    "import pandas as pd\n",
    "\n",
    "# pycytominer imports\n",
    "from pycytominer.cyto_utils.cells import SingleCells\n",
    "from pycytominer import annotate, normalize, feature_select\n",
    "\n",
    "# ignore mix type warnings from pandas\n",
    "import warnings\n",
    "\n",
    "warnings.filterwarnings(\"ignore\")\n",
    "\n",
    "import os\n",
    "from tqdm import tqdm"
   ]
  },
  {
   "cell_type": "code",
   "execution_count": 5,
   "id": "94924f84-6846-45b7-8602-1cc7fd413761",
   "metadata": {},
   "outputs": [],
   "source": [
    "# Setting file paths\n",
    "data_dir = pathlib.Path(\"/dgx1nas1/storage/data/sam/profiles\").resolve(strict=True)\n",
    "result_dir = pathlib.Path(\"/dgx1nas1/storage/data/sam/processed\")\n",
    "result_dir.mkdir(exist_ok=True)\n",
    "\n",
    "# Metadata Path\n",
    "platemap = '2023_05_30_B1A1R1.csv'"
   ]
  },
  {
   "cell_type": "code",
   "execution_count": 30,
   "id": "b1d0af57-fc01-4f0d-99b4-4c0db2f05c22",
   "metadata": {},
   "outputs": [],
   "source": [
    "def annotate_with_platemap(profile_path, platemap_path, output_file_path):\n",
    "    profile = pd.read_parquet(profile_path, engine=\"pyarrow\")\n",
    "    platemap = pd.read_csv(platemap_path).copy()\n",
    "    # Append 'Metadata_' to platemap column names \n",
    "    platemap.columns = [\n",
    "            f\"Metadata_{x}\" if not x.startswith(\"Metadata_\") else x\n",
    "            for x in platemap.columns\n",
    "        ]\n",
    "    aligned_df = platemap.merge(profile, on=[\"Metadata_Plate\", \"Metadata_Well\"], how=\"right\")\n",
    "    aligned_df.to_parquet(path=output_file_path, compression=\"gzip\")\n",
    "    print(f'Annotated profile saved at {output_file_path}')"
   ]
  },
  {
   "cell_type": "code",
   "execution_count": null,
   "id": "643a0d35-3fd7-4f19-9b04-8ee7c463b78b",
   "metadata": {},
   "outputs": [],
   "source": [
    "# annotating merged single-cell profile with metadata\n",
    "for file in tqdm(os.listdir(data_dir)):\n",
    "    orig_file = pathlib.Path(data_dir / file).resolve(strict=True)\n",
    "    anot_file = pathlib.Path(result_dir / (str(file.split('.')[0])+'_annotated.parquet.gzip'))\n",
    "    norm_file = pathlib.Path(result_dir / (str(file.split('.')[0])+'_annotated_normalized.parquet.gzip'))\n",
    "   \n",
    "    annotate_with_platemap(orig_file, platemap, anot_file)\n",
    "    \n",
    "    # save message display\n",
    "    print(f\"Annotated profile saved in: {anot_file}\")\n",
    "\n",
    "    # Whole plate normalization\n",
    "    normalize(\n",
    "        profiles=anot_file,\n",
    "        features=\"infer\",\n",
    "        image_features=False,\n",
    "        meta_features=\"infer\",\n",
    "        samples=\"all\",\n",
    "        method='mad_robustize',\n",
    "        mad_robustize_epsilon=0,\n",
    "        output_file=norm_file,\n",
    "        output_type=parquet,\n",
    "        compression_options=\"gzip\",\n",
    "    )\n",
    "    \n",
    "    print(f\"Normalized profile saved in: {norm_file}\")"
   ]
  }
 ],
 "metadata": {
  "kernelspec": {
   "display_name": "Python 3 (ipykernel)",
   "language": "python",
   "name": "python3"
  },
  "language_info": {
   "codemirror_mode": {
    "name": "ipython",
    "version": 3
   },
   "file_extension": ".py",
   "mimetype": "text/x-python",
   "name": "python",
   "nbconvert_exporter": "python",
   "pygments_lexer": "ipython3",
   "version": "3.10.12"
  }
 },
 "nbformat": 4,
 "nbformat_minor": 5
}
